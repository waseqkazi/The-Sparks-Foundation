{
  "nbformat": 4,
  "nbformat_minor": 0,
  "metadata": {
    "colab": {
      "provenance": [],
      "include_colab_link": true
    },
    "kernelspec": {
      "name": "python3",
      "display_name": "Python 3"
    },
    "language_info": {
      "name": "python"
    }
  },
  "cells": [
    {
      "cell_type": "markdown",
      "metadata": {
        "id": "view-in-github",
        "colab_type": "text"
      },
      "source": [
        "<a href=\"https://colab.research.google.com/github/waseqkazi/The-Sparks-Foundation/blob/main/PROJECT.ipynb\" target=\"_parent\"><img src=\"https://colab.research.google.com/assets/colab-badge.svg\" alt=\"Open In Colab\"/></a>"
      ]
    },
    {
      "cell_type": "markdown",
      "source": [
        "Exploratory data analysis(EDA)"
      ],
      "metadata": {
        "id": "JBvS-C9WLOI0"
      }
    },
    {
      "cell_type": "markdown",
      "source": [
        "Installation of libraries"
      ],
      "metadata": {
        "id": "Dyv1TFDbnBuV"
      }
    },
    {
      "cell_type": "code",
      "execution_count": null,
      "metadata": {
        "id": "oFtUbg1mLMsi"
      },
      "outputs": [],
      "source": [
        "import pandas as pd\n",
        "import numpy as np # For mathematical calculations\n",
        "import seaborn as sns # For data visualization\n",
        "import matplotlib.pyplot as plt # For plotting graphs\n",
        "%matplotlib inline\n",
        "import warnings # To ignore any warnings\n",
        "warnings.filterwarnings(\"ignore\")"
      ]
    },
    {
      "cell_type": "markdown",
      "source": [
        "Uploading dataset"
      ],
      "metadata": {
        "id": "2EC8wF3xnI1r"
      }
    },
    {
      "cell_type": "code",
      "source": [
        "data = pd.read_csv(\"/content/data.csv\")"
      ],
      "metadata": {
        "id": "d5tudzwJMhYz"
      },
      "execution_count": null,
      "outputs": []
    },
    {
      "cell_type": "markdown",
      "source": [
        "Viewing dataset"
      ],
      "metadata": {
        "id": "Qb7uPDaonNN1"
      }
    },
    {
      "cell_type": "code",
      "source": [
        "data.head()"
      ],
      "metadata": {
        "colab": {
          "base_uri": "https://localhost:8080/",
          "height": 206
        },
        "id": "YjWOpTzZM3JH",
        "outputId": "4c8588a7-f42c-428a-a525-52e2d4600834"
      },
      "execution_count": null,
      "outputs": [
        {
          "output_type": "execute_result",
          "data": {
            "text/plain": [
              "    N   P   K  temperature   humidity        ph    rainfall label\n",
              "0  90  42  43    20.879744  82.002744  6.502985  202.935536  rice\n",
              "1  85  58  41    21.770462  80.319644  7.038096  226.655537  rice\n",
              "2  60  55  44    23.004459  82.320763  7.840207  263.964248  rice\n",
              "3  74  35  40    26.491096  80.158363  6.980401  242.864034  rice\n",
              "4  78  42  42    20.130175  81.604873  7.628473  262.717340  rice"
            ],
            "text/html": [
              "\n",
              "  <div id=\"df-73ac2db4-ebeb-4661-ab41-40a1e4dd53da\">\n",
              "    <div class=\"colab-df-container\">\n",
              "      <div>\n",
              "<style scoped>\n",
              "    .dataframe tbody tr th:only-of-type {\n",
              "        vertical-align: middle;\n",
              "    }\n",
              "\n",
              "    .dataframe tbody tr th {\n",
              "        vertical-align: top;\n",
              "    }\n",
              "\n",
              "    .dataframe thead th {\n",
              "        text-align: right;\n",
              "    }\n",
              "</style>\n",
              "<table border=\"1\" class=\"dataframe\">\n",
              "  <thead>\n",
              "    <tr style=\"text-align: right;\">\n",
              "      <th></th>\n",
              "      <th>N</th>\n",
              "      <th>P</th>\n",
              "      <th>K</th>\n",
              "      <th>temperature</th>\n",
              "      <th>humidity</th>\n",
              "      <th>ph</th>\n",
              "      <th>rainfall</th>\n",
              "      <th>label</th>\n",
              "    </tr>\n",
              "  </thead>\n",
              "  <tbody>\n",
              "    <tr>\n",
              "      <th>0</th>\n",
              "      <td>90</td>\n",
              "      <td>42</td>\n",
              "      <td>43</td>\n",
              "      <td>20.879744</td>\n",
              "      <td>82.002744</td>\n",
              "      <td>6.502985</td>\n",
              "      <td>202.935536</td>\n",
              "      <td>rice</td>\n",
              "    </tr>\n",
              "    <tr>\n",
              "      <th>1</th>\n",
              "      <td>85</td>\n",
              "      <td>58</td>\n",
              "      <td>41</td>\n",
              "      <td>21.770462</td>\n",
              "      <td>80.319644</td>\n",
              "      <td>7.038096</td>\n",
              "      <td>226.655537</td>\n",
              "      <td>rice</td>\n",
              "    </tr>\n",
              "    <tr>\n",
              "      <th>2</th>\n",
              "      <td>60</td>\n",
              "      <td>55</td>\n",
              "      <td>44</td>\n",
              "      <td>23.004459</td>\n",
              "      <td>82.320763</td>\n",
              "      <td>7.840207</td>\n",
              "      <td>263.964248</td>\n",
              "      <td>rice</td>\n",
              "    </tr>\n",
              "    <tr>\n",
              "      <th>3</th>\n",
              "      <td>74</td>\n",
              "      <td>35</td>\n",
              "      <td>40</td>\n",
              "      <td>26.491096</td>\n",
              "      <td>80.158363</td>\n",
              "      <td>6.980401</td>\n",
              "      <td>242.864034</td>\n",
              "      <td>rice</td>\n",
              "    </tr>\n",
              "    <tr>\n",
              "      <th>4</th>\n",
              "      <td>78</td>\n",
              "      <td>42</td>\n",
              "      <td>42</td>\n",
              "      <td>20.130175</td>\n",
              "      <td>81.604873</td>\n",
              "      <td>7.628473</td>\n",
              "      <td>262.717340</td>\n",
              "      <td>rice</td>\n",
              "    </tr>\n",
              "  </tbody>\n",
              "</table>\n",
              "</div>\n",
              "      <button class=\"colab-df-convert\" onclick=\"convertToInteractive('df-73ac2db4-ebeb-4661-ab41-40a1e4dd53da')\"\n",
              "              title=\"Convert this dataframe to an interactive table.\"\n",
              "              style=\"display:none;\">\n",
              "        \n",
              "  <svg xmlns=\"http://www.w3.org/2000/svg\" height=\"24px\"viewBox=\"0 0 24 24\"\n",
              "       width=\"24px\">\n",
              "    <path d=\"M0 0h24v24H0V0z\" fill=\"none\"/>\n",
              "    <path d=\"M18.56 5.44l.94 2.06.94-2.06 2.06-.94-2.06-.94-.94-2.06-.94 2.06-2.06.94zm-11 1L8.5 8.5l.94-2.06 2.06-.94-2.06-.94L8.5 2.5l-.94 2.06-2.06.94zm10 10l.94 2.06.94-2.06 2.06-.94-2.06-.94-.94-2.06-.94 2.06-2.06.94z\"/><path d=\"M17.41 7.96l-1.37-1.37c-.4-.4-.92-.59-1.43-.59-.52 0-1.04.2-1.43.59L10.3 9.45l-7.72 7.72c-.78.78-.78 2.05 0 2.83L4 21.41c.39.39.9.59 1.41.59.51 0 1.02-.2 1.41-.59l7.78-7.78 2.81-2.81c.8-.78.8-2.07 0-2.86zM5.41 20L4 18.59l7.72-7.72 1.47 1.35L5.41 20z\"/>\n",
              "  </svg>\n",
              "      </button>\n",
              "      \n",
              "  <style>\n",
              "    .colab-df-container {\n",
              "      display:flex;\n",
              "      flex-wrap:wrap;\n",
              "      gap: 12px;\n",
              "    }\n",
              "\n",
              "    .colab-df-convert {\n",
              "      background-color: #E8F0FE;\n",
              "      border: none;\n",
              "      border-radius: 50%;\n",
              "      cursor: pointer;\n",
              "      display: none;\n",
              "      fill: #1967D2;\n",
              "      height: 32px;\n",
              "      padding: 0 0 0 0;\n",
              "      width: 32px;\n",
              "    }\n",
              "\n",
              "    .colab-df-convert:hover {\n",
              "      background-color: #E2EBFA;\n",
              "      box-shadow: 0px 1px 2px rgba(60, 64, 67, 0.3), 0px 1px 3px 1px rgba(60, 64, 67, 0.15);\n",
              "      fill: #174EA6;\n",
              "    }\n",
              "\n",
              "    [theme=dark] .colab-df-convert {\n",
              "      background-color: #3B4455;\n",
              "      fill: #D2E3FC;\n",
              "    }\n",
              "\n",
              "    [theme=dark] .colab-df-convert:hover {\n",
              "      background-color: #434B5C;\n",
              "      box-shadow: 0px 1px 3px 1px rgba(0, 0, 0, 0.15);\n",
              "      filter: drop-shadow(0px 1px 2px rgba(0, 0, 0, 0.3));\n",
              "      fill: #FFFFFF;\n",
              "    }\n",
              "  </style>\n",
              "\n",
              "      <script>\n",
              "        const buttonEl =\n",
              "          document.querySelector('#df-73ac2db4-ebeb-4661-ab41-40a1e4dd53da button.colab-df-convert');\n",
              "        buttonEl.style.display =\n",
              "          google.colab.kernel.accessAllowed ? 'block' : 'none';\n",
              "\n",
              "        async function convertToInteractive(key) {\n",
              "          const element = document.querySelector('#df-73ac2db4-ebeb-4661-ab41-40a1e4dd53da');\n",
              "          const dataTable =\n",
              "            await google.colab.kernel.invokeFunction('convertToInteractive',\n",
              "                                                     [key], {});\n",
              "          if (!dataTable) return;\n",
              "\n",
              "          const docLinkHtml = 'Like what you see? Visit the ' +\n",
              "            '<a target=\"_blank\" href=https://colab.research.google.com/notebooks/data_table.ipynb>data table notebook</a>'\n",
              "            + ' to learn more about interactive tables.';\n",
              "          element.innerHTML = '';\n",
              "          dataTable['output_type'] = 'display_data';\n",
              "          await google.colab.output.renderOutput(dataTable, element);\n",
              "          const docLink = document.createElement('div');\n",
              "          docLink.innerHTML = docLinkHtml;\n",
              "          element.appendChild(docLink);\n",
              "        }\n",
              "      </script>\n",
              "    </div>\n",
              "  </div>\n",
              "  "
            ]
          },
          "metadata": {},
          "execution_count": 65
        }
      ]
    },
    {
      "cell_type": "code",
      "source": [
        "data.tail()"
      ],
      "metadata": {
        "colab": {
          "base_uri": "https://localhost:8080/",
          "height": 206
        },
        "id": "cQ73TsRQfsFx",
        "outputId": "4c3ee41b-4017-4fe1-d435-f180ebe48ea8"
      },
      "execution_count": null,
      "outputs": [
        {
          "output_type": "execute_result",
          "data": {
            "text/plain": [
              "        N   P   K  temperature   humidity        ph    rainfall   label\n",
              "2195  107  34  32    26.774637  66.413269  6.780064  177.774507  coffee\n",
              "2196   99  15  27    27.417112  56.636362  6.086922  127.924610  coffee\n",
              "2197  118  33  30    24.131797  67.225123  6.362608  173.322839  coffee\n",
              "2198  117  32  34    26.272418  52.127394  6.758793  127.175293  coffee\n",
              "2199  104  18  30    23.603016  60.396475  6.779833  140.937041  coffee"
            ],
            "text/html": [
              "\n",
              "  <div id=\"df-b4aa476b-dee0-410e-acbb-d5e0f4888411\">\n",
              "    <div class=\"colab-df-container\">\n",
              "      <div>\n",
              "<style scoped>\n",
              "    .dataframe tbody tr th:only-of-type {\n",
              "        vertical-align: middle;\n",
              "    }\n",
              "\n",
              "    .dataframe tbody tr th {\n",
              "        vertical-align: top;\n",
              "    }\n",
              "\n",
              "    .dataframe thead th {\n",
              "        text-align: right;\n",
              "    }\n",
              "</style>\n",
              "<table border=\"1\" class=\"dataframe\">\n",
              "  <thead>\n",
              "    <tr style=\"text-align: right;\">\n",
              "      <th></th>\n",
              "      <th>N</th>\n",
              "      <th>P</th>\n",
              "      <th>K</th>\n",
              "      <th>temperature</th>\n",
              "      <th>humidity</th>\n",
              "      <th>ph</th>\n",
              "      <th>rainfall</th>\n",
              "      <th>label</th>\n",
              "    </tr>\n",
              "  </thead>\n",
              "  <tbody>\n",
              "    <tr>\n",
              "      <th>2195</th>\n",
              "      <td>107</td>\n",
              "      <td>34</td>\n",
              "      <td>32</td>\n",
              "      <td>26.774637</td>\n",
              "      <td>66.413269</td>\n",
              "      <td>6.780064</td>\n",
              "      <td>177.774507</td>\n",
              "      <td>coffee</td>\n",
              "    </tr>\n",
              "    <tr>\n",
              "      <th>2196</th>\n",
              "      <td>99</td>\n",
              "      <td>15</td>\n",
              "      <td>27</td>\n",
              "      <td>27.417112</td>\n",
              "      <td>56.636362</td>\n",
              "      <td>6.086922</td>\n",
              "      <td>127.924610</td>\n",
              "      <td>coffee</td>\n",
              "    </tr>\n",
              "    <tr>\n",
              "      <th>2197</th>\n",
              "      <td>118</td>\n",
              "      <td>33</td>\n",
              "      <td>30</td>\n",
              "      <td>24.131797</td>\n",
              "      <td>67.225123</td>\n",
              "      <td>6.362608</td>\n",
              "      <td>173.322839</td>\n",
              "      <td>coffee</td>\n",
              "    </tr>\n",
              "    <tr>\n",
              "      <th>2198</th>\n",
              "      <td>117</td>\n",
              "      <td>32</td>\n",
              "      <td>34</td>\n",
              "      <td>26.272418</td>\n",
              "      <td>52.127394</td>\n",
              "      <td>6.758793</td>\n",
              "      <td>127.175293</td>\n",
              "      <td>coffee</td>\n",
              "    </tr>\n",
              "    <tr>\n",
              "      <th>2199</th>\n",
              "      <td>104</td>\n",
              "      <td>18</td>\n",
              "      <td>30</td>\n",
              "      <td>23.603016</td>\n",
              "      <td>60.396475</td>\n",
              "      <td>6.779833</td>\n",
              "      <td>140.937041</td>\n",
              "      <td>coffee</td>\n",
              "    </tr>\n",
              "  </tbody>\n",
              "</table>\n",
              "</div>\n",
              "      <button class=\"colab-df-convert\" onclick=\"convertToInteractive('df-b4aa476b-dee0-410e-acbb-d5e0f4888411')\"\n",
              "              title=\"Convert this dataframe to an interactive table.\"\n",
              "              style=\"display:none;\">\n",
              "        \n",
              "  <svg xmlns=\"http://www.w3.org/2000/svg\" height=\"24px\"viewBox=\"0 0 24 24\"\n",
              "       width=\"24px\">\n",
              "    <path d=\"M0 0h24v24H0V0z\" fill=\"none\"/>\n",
              "    <path d=\"M18.56 5.44l.94 2.06.94-2.06 2.06-.94-2.06-.94-.94-2.06-.94 2.06-2.06.94zm-11 1L8.5 8.5l.94-2.06 2.06-.94-2.06-.94L8.5 2.5l-.94 2.06-2.06.94zm10 10l.94 2.06.94-2.06 2.06-.94-2.06-.94-.94-2.06-.94 2.06-2.06.94z\"/><path d=\"M17.41 7.96l-1.37-1.37c-.4-.4-.92-.59-1.43-.59-.52 0-1.04.2-1.43.59L10.3 9.45l-7.72 7.72c-.78.78-.78 2.05 0 2.83L4 21.41c.39.39.9.59 1.41.59.51 0 1.02-.2 1.41-.59l7.78-7.78 2.81-2.81c.8-.78.8-2.07 0-2.86zM5.41 20L4 18.59l7.72-7.72 1.47 1.35L5.41 20z\"/>\n",
              "  </svg>\n",
              "      </button>\n",
              "      \n",
              "  <style>\n",
              "    .colab-df-container {\n",
              "      display:flex;\n",
              "      flex-wrap:wrap;\n",
              "      gap: 12px;\n",
              "    }\n",
              "\n",
              "    .colab-df-convert {\n",
              "      background-color: #E8F0FE;\n",
              "      border: none;\n",
              "      border-radius: 50%;\n",
              "      cursor: pointer;\n",
              "      display: none;\n",
              "      fill: #1967D2;\n",
              "      height: 32px;\n",
              "      padding: 0 0 0 0;\n",
              "      width: 32px;\n",
              "    }\n",
              "\n",
              "    .colab-df-convert:hover {\n",
              "      background-color: #E2EBFA;\n",
              "      box-shadow: 0px 1px 2px rgba(60, 64, 67, 0.3), 0px 1px 3px 1px rgba(60, 64, 67, 0.15);\n",
              "      fill: #174EA6;\n",
              "    }\n",
              "\n",
              "    [theme=dark] .colab-df-convert {\n",
              "      background-color: #3B4455;\n",
              "      fill: #D2E3FC;\n",
              "    }\n",
              "\n",
              "    [theme=dark] .colab-df-convert:hover {\n",
              "      background-color: #434B5C;\n",
              "      box-shadow: 0px 1px 3px 1px rgba(0, 0, 0, 0.15);\n",
              "      filter: drop-shadow(0px 1px 2px rgba(0, 0, 0, 0.3));\n",
              "      fill: #FFFFFF;\n",
              "    }\n",
              "  </style>\n",
              "\n",
              "      <script>\n",
              "        const buttonEl =\n",
              "          document.querySelector('#df-b4aa476b-dee0-410e-acbb-d5e0f4888411 button.colab-df-convert');\n",
              "        buttonEl.style.display =\n",
              "          google.colab.kernel.accessAllowed ? 'block' : 'none';\n",
              "\n",
              "        async function convertToInteractive(key) {\n",
              "          const element = document.querySelector('#df-b4aa476b-dee0-410e-acbb-d5e0f4888411');\n",
              "          const dataTable =\n",
              "            await google.colab.kernel.invokeFunction('convertToInteractive',\n",
              "                                                     [key], {});\n",
              "          if (!dataTable) return;\n",
              "\n",
              "          const docLinkHtml = 'Like what you see? Visit the ' +\n",
              "            '<a target=\"_blank\" href=https://colab.research.google.com/notebooks/data_table.ipynb>data table notebook</a>'\n",
              "            + ' to learn more about interactive tables.';\n",
              "          element.innerHTML = '';\n",
              "          dataTable['output_type'] = 'display_data';\n",
              "          await google.colab.output.renderOutput(dataTable, element);\n",
              "          const docLink = document.createElement('div');\n",
              "          docLink.innerHTML = docLinkHtml;\n",
              "          element.appendChild(docLink);\n",
              "        }\n",
              "      </script>\n",
              "    </div>\n",
              "  </div>\n",
              "  "
            ]
          },
          "metadata": {},
          "execution_count": 66
        }
      ]
    },
    {
      "cell_type": "code",
      "source": [
        "data.shape"
      ],
      "metadata": {
        "colab": {
          "base_uri": "https://localhost:8080/"
        },
        "id": "COmfbUQGNMX2",
        "outputId": "2e38769d-d241-433f-9cef-7b28eb3d4923"
      },
      "execution_count": null,
      "outputs": [
        {
          "output_type": "execute_result",
          "data": {
            "text/plain": [
              "(2200, 8)"
            ]
          },
          "metadata": {},
          "execution_count": 67
        }
      ]
    },
    {
      "cell_type": "code",
      "source": [
        "data.columns"
      ],
      "metadata": {
        "colab": {
          "base_uri": "https://localhost:8080/"
        },
        "id": "ZnxAUOcHNQCl",
        "outputId": "f5cf8be9-b77c-40e2-b4da-cb9a0ef9f66f"
      },
      "execution_count": null,
      "outputs": [
        {
          "output_type": "execute_result",
          "data": {
            "text/plain": [
              "Index(['N', 'P', 'K', 'temperature', 'humidity', 'ph', 'rainfall', 'label'], dtype='object')"
            ]
          },
          "metadata": {},
          "execution_count": 68
        }
      ]
    },
    {
      "cell_type": "code",
      "source": [
        "data.dtypes"
      ],
      "metadata": {
        "colab": {
          "base_uri": "https://localhost:8080/"
        },
        "id": "T-lBTypbNVVB",
        "outputId": "62abd014-f012-4d00-f75e-3a9b2c6b21b1"
      },
      "execution_count": null,
      "outputs": [
        {
          "output_type": "execute_result",
          "data": {
            "text/plain": [
              "N                int64\n",
              "P                int64\n",
              "K                int64\n",
              "temperature    float64\n",
              "humidity       float64\n",
              "ph             float64\n",
              "rainfall       float64\n",
              "label           object\n",
              "dtype: object"
            ]
          },
          "metadata": {},
          "execution_count": 69
        }
      ]
    },
    {
      "cell_type": "markdown",
      "source": [
        "details about classes and total number of classes"
      ],
      "metadata": {
        "id": "yz5J5jifnaZ8"
      }
    },
    {
      "cell_type": "code",
      "source": [
        "data.label.nunique(dropna = True)"
      ],
      "metadata": {
        "colab": {
          "base_uri": "https://localhost:8080/"
        },
        "id": "kddNRPkGOE69",
        "outputId": "3d47d25b-b5d8-424d-e1e8-434991ea1e32"
      },
      "execution_count": null,
      "outputs": [
        {
          "output_type": "execute_result",
          "data": {
            "text/plain": [
              "22"
            ]
          },
          "metadata": {},
          "execution_count": 70
        }
      ]
    },
    {
      "cell_type": "code",
      "source": [
        "data.label.unique()"
      ],
      "metadata": {
        "colab": {
          "base_uri": "https://localhost:8080/"
        },
        "id": "OkFmC6NlNaGS",
        "outputId": "c36447c9-2ab8-4a9f-fdf1-2d0ce394c0c3"
      },
      "execution_count": null,
      "outputs": [
        {
          "output_type": "execute_result",
          "data": {
            "text/plain": [
              "array(['rice', 'maize', 'chickpea', 'kidneybeans', 'pigeonpeas',\n",
              "       'mothbeans', 'mungbean', 'blackgram', 'lentil', 'pomegranate',\n",
              "       'banana', 'mango', 'grapes', 'watermelon', 'muskmelon', 'apple',\n",
              "       'orange', 'papaya', 'coconut', 'cotton', 'jute', 'coffee'],\n",
              "      dtype=object)"
            ]
          },
          "metadata": {},
          "execution_count": 71
        }
      ]
    },
    {
      "cell_type": "code",
      "source": [
        "data['label'].value_counts()"
      ],
      "metadata": {
        "colab": {
          "base_uri": "https://localhost:8080/"
        },
        "id": "vSxJIExrPeHy",
        "outputId": "b801504e-71d1-497b-ba85-0ae13c31b4a6"
      },
      "execution_count": null,
      "outputs": [
        {
          "output_type": "execute_result",
          "data": {
            "text/plain": [
              "rice           100\n",
              "maize          100\n",
              "jute           100\n",
              "cotton         100\n",
              "coconut        100\n",
              "papaya         100\n",
              "orange         100\n",
              "apple          100\n",
              "muskmelon      100\n",
              "watermelon     100\n",
              "grapes         100\n",
              "mango          100\n",
              "banana         100\n",
              "pomegranate    100\n",
              "lentil         100\n",
              "blackgram      100\n",
              "mungbean       100\n",
              "mothbeans      100\n",
              "pigeonpeas     100\n",
              "kidneybeans    100\n",
              "chickpea       100\n",
              "coffee         100\n",
              "Name: label, dtype: int64"
            ]
          },
          "metadata": {},
          "execution_count": 72
        }
      ]
    },
    {
      "cell_type": "markdown",
      "source": [
        "Checking for Null values"
      ],
      "metadata": {
        "id": "96-yMRQ_nq9C"
      }
    },
    {
      "cell_type": "code",
      "source": [
        "data.isnull().sum()"
      ],
      "metadata": {
        "colab": {
          "base_uri": "https://localhost:8080/"
        },
        "id": "DQV6oztiOyTr",
        "outputId": "5cb38d0c-08d5-4d36-f2ee-65e7101b3595"
      },
      "execution_count": null,
      "outputs": [
        {
          "output_type": "execute_result",
          "data": {
            "text/plain": [
              "N              0\n",
              "P              0\n",
              "K              0\n",
              "temperature    0\n",
              "humidity       0\n",
              "ph             0\n",
              "rainfall       0\n",
              "label          0\n",
              "dtype: int64"
            ]
          },
          "metadata": {},
          "execution_count": 73
        }
      ]
    },
    {
      "cell_type": "code",
      "source": [
        "data.isin(['?']).sum()"
      ],
      "metadata": {
        "colab": {
          "base_uri": "https://localhost:8080/"
        },
        "id": "x3pyncO72VGt",
        "outputId": "95a7cfaf-44e7-41ea-f3d2-b3b80de63779"
      },
      "execution_count": null,
      "outputs": [
        {
          "output_type": "execute_result",
          "data": {
            "text/plain": [
              "N              0\n",
              "P              0\n",
              "K              0\n",
              "temperature    0\n",
              "humidity       0\n",
              "ph             0\n",
              "rainfall       0\n",
              "label          0\n",
              "dtype: int64"
            ]
          },
          "metadata": {},
          "execution_count": 74
        }
      ]
    },
    {
      "cell_type": "markdown",
      "source": [
        "Overall Average"
      ],
      "metadata": {
        "id": "PwmXdAb2oCwI"
      }
    },
    {
      "cell_type": "code",
      "source": [
        "for i in data.columns:\n",
        "  if i == 'label':\n",
        "    break;\n",
        "  print(\"overall average of \",i,\" is : {0:.2f}\".format(data[i].mean()))"
      ],
      "metadata": {
        "colab": {
          "base_uri": "https://localhost:8080/"
        },
        "id": "rK8thorUE258",
        "outputId": "773157b5-9d1c-4752-d39e-ab6dfc6309db"
      },
      "execution_count": null,
      "outputs": [
        {
          "output_type": "stream",
          "name": "stdout",
          "text": [
            "overall average of  N  is : 50.55\n",
            "overall average of  P  is : 53.36\n",
            "overall average of  K  is : 48.15\n",
            "overall average of  temperature  is : 25.62\n",
            "overall average of  humidity  is : 71.48\n",
            "overall average of  ph  is : 6.47\n",
            "overall average of  rainfall  is : 103.46\n"
          ]
        }
      ]
    },
    {
      "cell_type": "code",
      "source": [
        "def summary(crops):\n",
        "   x = data[data['label'] == crops]\n",
        "   print('requirements of ', crops ,' are:')\n",
        "   print(\"**********************************************************************\")\n",
        "   print(\"minimum,average and maximum ratios of nitrogen are : {0:.2f}\".format(x['N'].min()),\",\",\"{0:.2f}\".format(x['N'].mean()),\"and\",\"{0:.2f}\".format(x['N'].max()),\"respectively\")\n",
        "   print(\"----------------------------------------------------------------------\")\n",
        "   print(\"minimum,average and maximum ratios of phosphorous are : {0:.2f}\".format(x['P'].min()),\",\",\"{0:.2f}\".format(x['P'].mean()),\"and\",\"{0:.2f}\".format(x['P'].max()),\"respectively\")\n",
        "   print(\"----------------------------------------------------------------------\")\n",
        "   print(\"minimum,average and maximum ratios of potasium are : {0:.2f}\".format(x['K'].min()),\",\",\"{0:.2f}\".format(x['K'].mean()),\"and\",\"{0:.2f}\".format(x['K'].max()),\"respectively\")\n",
        "   print(\"----------------------------------------------------------------------\")\n",
        "   print(\"minimum,average and maximum temperatures are : {0:.2f}\".format(x['temperature'].min()),\",\",\"{0:.2f}\".format(x['temperature'].mean()),\"and\",\"{0:.2f}\".format(x['temperature'].max()),\"respectively\")\n",
        "   print(\"----------------------------------------------------------------------\")\n",
        "   print(\"minimum,average and maximum percentages of humidity are : {0:.2f}\".format(x['humidity'].min()),\",\",\"{0:.2f}\".format(x['humidity'].mean()),\"and\",\"{0:.2f}\".format(x['humidity'].max()),\"respectively\")\n",
        "   print(\"----------------------------------------------------------------------\")\n",
        "   print(\"minimum,average and maximum values of ph are : {0:.2f}\".format(x['ph'].min()),\",\",\"{0:.2f}\".format(x['ph'].mean()),\"and\",\"{0:.2f}\".format(x['ph'].max()),\"respectively\")\n",
        "   print(\"----------------------------------------------------------------------\")\n",
        "   print(\"minimum,average and maximum values of rainfall in milimeter  are : {0:.2f}\".format(x['rainfall'].min()),\",\",\"{0:.2f}\".format(x['rainfall'].mean()),\"and\",\"{0:.2f}\".format(x['rainfall'].max()),\"respectively\");\n",
        "\n",
        "\n",
        "   "
      ],
      "metadata": {
        "id": "g0vUEBhTTINz"
      },
      "execution_count": null,
      "outputs": []
    },
    {
      "cell_type": "code",
      "source": [
        "for i in data.label.unique():\n",
        "  print(summary(i))"
      ],
      "metadata": {
        "id": "Ulnc5ZtIS6Al",
        "colab": {
          "base_uri": "https://localhost:8080/"
        },
        "outputId": "439ecd40-ed18-45a8-89e1-bb93b78e8173"
      },
      "execution_count": null,
      "outputs": [
        {
          "output_type": "stream",
          "name": "stdout",
          "text": [
            "requirements of  rice  are:\n",
            "**********************************************************************\n",
            "minimum,average and maximum ratios of nitrogen are : 60.00 , 79.89 and 99.00 respectively\n",
            "----------------------------------------------------------------------\n",
            "minimum,average and maximum ratios of phosphorous are : 35.00 , 47.58 and 60.00 respectively\n",
            "----------------------------------------------------------------------\n",
            "minimum,average and maximum ratios of potasium are : 35.00 , 39.87 and 45.00 respectively\n",
            "----------------------------------------------------------------------\n",
            "minimum,average and maximum temperatures are : 20.05 , 23.69 and 26.93 respectively\n",
            "----------------------------------------------------------------------\n",
            "minimum,average and maximum percentages of humidity are : 80.12 , 82.27 and 84.97 respectively\n",
            "----------------------------------------------------------------------\n",
            "minimum,average and maximum values of ph are : 5.01 , 6.43 and 7.87 respectively\n",
            "----------------------------------------------------------------------\n",
            "minimum,average and maximum values of rainfall in milimeter  are : 182.56 , 236.18 and 298.56 respectively\n",
            "None\n",
            "requirements of  maize  are:\n",
            "**********************************************************************\n",
            "minimum,average and maximum ratios of nitrogen are : 60.00 , 77.76 and 100.00 respectively\n",
            "----------------------------------------------------------------------\n",
            "minimum,average and maximum ratios of phosphorous are : 35.00 , 48.44 and 60.00 respectively\n",
            "----------------------------------------------------------------------\n",
            "minimum,average and maximum ratios of potasium are : 15.00 , 19.79 and 25.00 respectively\n",
            "----------------------------------------------------------------------\n",
            "minimum,average and maximum temperatures are : 18.04 , 22.39 and 26.55 respectively\n",
            "----------------------------------------------------------------------\n",
            "minimum,average and maximum percentages of humidity are : 55.28 , 65.09 and 74.83 respectively\n",
            "----------------------------------------------------------------------\n",
            "minimum,average and maximum values of ph are : 5.51 , 6.25 and 7.00 respectively\n",
            "----------------------------------------------------------------------\n",
            "minimum,average and maximum values of rainfall in milimeter  are : 60.65 , 84.77 and 109.75 respectively\n",
            "None\n",
            "requirements of  chickpea  are:\n",
            "**********************************************************************\n",
            "minimum,average and maximum ratios of nitrogen are : 20.00 , 40.09 and 60.00 respectively\n",
            "----------------------------------------------------------------------\n",
            "minimum,average and maximum ratios of phosphorous are : 55.00 , 67.79 and 80.00 respectively\n",
            "----------------------------------------------------------------------\n",
            "minimum,average and maximum ratios of potasium are : 75.00 , 79.92 and 85.00 respectively\n",
            "----------------------------------------------------------------------\n",
            "minimum,average and maximum temperatures are : 17.02 , 18.87 and 21.00 respectively\n",
            "----------------------------------------------------------------------\n",
            "minimum,average and maximum percentages of humidity are : 14.26 , 16.86 and 19.97 respectively\n",
            "----------------------------------------------------------------------\n",
            "minimum,average and maximum values of ph are : 5.99 , 7.34 and 8.87 respectively\n",
            "----------------------------------------------------------------------\n",
            "minimum,average and maximum values of rainfall in milimeter  are : 65.11 , 80.06 and 94.78 respectively\n",
            "None\n",
            "requirements of  kidneybeans  are:\n",
            "**********************************************************************\n",
            "minimum,average and maximum ratios of nitrogen are : 0.00 , 20.75 and 40.00 respectively\n",
            "----------------------------------------------------------------------\n",
            "minimum,average and maximum ratios of phosphorous are : 55.00 , 67.54 and 80.00 respectively\n",
            "----------------------------------------------------------------------\n",
            "minimum,average and maximum ratios of potasium are : 15.00 , 20.05 and 25.00 respectively\n",
            "----------------------------------------------------------------------\n",
            "minimum,average and maximum temperatures are : 15.33 , 20.12 and 24.92 respectively\n",
            "----------------------------------------------------------------------\n",
            "minimum,average and maximum percentages of humidity are : 18.09 , 21.61 and 24.97 respectively\n",
            "----------------------------------------------------------------------\n",
            "minimum,average and maximum values of ph are : 5.50 , 5.75 and 6.00 respectively\n",
            "----------------------------------------------------------------------\n",
            "minimum,average and maximum values of rainfall in milimeter  are : 60.28 , 105.92 and 149.74 respectively\n",
            "None\n",
            "requirements of  pigeonpeas  are:\n",
            "**********************************************************************\n",
            "minimum,average and maximum ratios of nitrogen are : 0.00 , 20.73 and 40.00 respectively\n",
            "----------------------------------------------------------------------\n",
            "minimum,average and maximum ratios of phosphorous are : 55.00 , 67.73 and 80.00 respectively\n",
            "----------------------------------------------------------------------\n",
            "minimum,average and maximum ratios of potasium are : 15.00 , 20.29 and 25.00 respectively\n",
            "----------------------------------------------------------------------\n",
            "minimum,average and maximum temperatures are : 18.32 , 27.74 and 36.98 respectively\n",
            "----------------------------------------------------------------------\n",
            "minimum,average and maximum percentages of humidity are : 30.40 , 48.06 and 69.69 respectively\n",
            "----------------------------------------------------------------------\n",
            "minimum,average and maximum values of ph are : 4.55 , 5.79 and 7.45 respectively\n",
            "----------------------------------------------------------------------\n",
            "minimum,average and maximum values of rainfall in milimeter  are : 90.05 , 149.46 and 198.83 respectively\n",
            "None\n",
            "requirements of  mothbeans  are:\n",
            "**********************************************************************\n",
            "minimum,average and maximum ratios of nitrogen are : 0.00 , 21.44 and 40.00 respectively\n",
            "----------------------------------------------------------------------\n",
            "minimum,average and maximum ratios of phosphorous are : 35.00 , 48.01 and 60.00 respectively\n",
            "----------------------------------------------------------------------\n",
            "minimum,average and maximum ratios of potasium are : 15.00 , 20.23 and 25.00 respectively\n",
            "----------------------------------------------------------------------\n",
            "minimum,average and maximum temperatures are : 24.02 , 28.19 and 32.00 respectively\n",
            "----------------------------------------------------------------------\n",
            "minimum,average and maximum percentages of humidity are : 40.01 , 53.16 and 64.96 respectively\n",
            "----------------------------------------------------------------------\n",
            "minimum,average and maximum values of ph are : 3.50 , 6.83 and 9.94 respectively\n",
            "----------------------------------------------------------------------\n",
            "minimum,average and maximum values of rainfall in milimeter  are : 30.92 , 51.20 and 74.44 respectively\n",
            "None\n",
            "requirements of  mungbean  are:\n",
            "**********************************************************************\n",
            "minimum,average and maximum ratios of nitrogen are : 0.00 , 20.99 and 40.00 respectively\n",
            "----------------------------------------------------------------------\n",
            "minimum,average and maximum ratios of phosphorous are : 35.00 , 47.28 and 60.00 respectively\n",
            "----------------------------------------------------------------------\n",
            "minimum,average and maximum ratios of potasium are : 15.00 , 19.87 and 25.00 respectively\n",
            "----------------------------------------------------------------------\n",
            "minimum,average and maximum temperatures are : 27.01 , 28.53 and 29.91 respectively\n",
            "----------------------------------------------------------------------\n",
            "minimum,average and maximum percentages of humidity are : 80.03 , 85.50 and 90.00 respectively\n",
            "----------------------------------------------------------------------\n",
            "minimum,average and maximum values of ph are : 6.22 , 6.72 and 7.20 respectively\n",
            "----------------------------------------------------------------------\n",
            "minimum,average and maximum values of rainfall in milimeter  are : 36.12 , 48.40 and 59.87 respectively\n",
            "None\n",
            "requirements of  blackgram  are:\n",
            "**********************************************************************\n",
            "minimum,average and maximum ratios of nitrogen are : 20.00 , 40.02 and 60.00 respectively\n",
            "----------------------------------------------------------------------\n",
            "minimum,average and maximum ratios of phosphorous are : 55.00 , 67.47 and 80.00 respectively\n",
            "----------------------------------------------------------------------\n",
            "minimum,average and maximum ratios of potasium are : 15.00 , 19.24 and 25.00 respectively\n",
            "----------------------------------------------------------------------\n",
            "minimum,average and maximum temperatures are : 25.10 , 29.97 and 34.95 respectively\n",
            "----------------------------------------------------------------------\n",
            "minimum,average and maximum percentages of humidity are : 60.07 , 65.12 and 69.96 respectively\n",
            "----------------------------------------------------------------------\n",
            "minimum,average and maximum values of ph are : 6.50 , 7.13 and 7.78 respectively\n",
            "----------------------------------------------------------------------\n",
            "minimum,average and maximum values of rainfall in milimeter  are : 60.42 , 67.88 and 74.92 respectively\n",
            "None\n",
            "requirements of  lentil  are:\n",
            "**********************************************************************\n",
            "minimum,average and maximum ratios of nitrogen are : 0.00 , 18.77 and 40.00 respectively\n",
            "----------------------------------------------------------------------\n",
            "minimum,average and maximum ratios of phosphorous are : 55.00 , 68.36 and 80.00 respectively\n",
            "----------------------------------------------------------------------\n",
            "minimum,average and maximum ratios of potasium are : 15.00 , 19.41 and 25.00 respectively\n",
            "----------------------------------------------------------------------\n",
            "minimum,average and maximum temperatures are : 18.06 , 24.51 and 29.94 respectively\n",
            "----------------------------------------------------------------------\n",
            "minimum,average and maximum percentages of humidity are : 60.09 , 64.80 and 69.92 respectively\n",
            "----------------------------------------------------------------------\n",
            "minimum,average and maximum values of ph are : 5.92 , 6.93 and 7.84 respectively\n",
            "----------------------------------------------------------------------\n",
            "minimum,average and maximum values of rainfall in milimeter  are : 35.03 , 45.68 and 54.94 respectively\n",
            "None\n",
            "requirements of  pomegranate  are:\n",
            "**********************************************************************\n",
            "minimum,average and maximum ratios of nitrogen are : 0.00 , 18.87 and 40.00 respectively\n",
            "----------------------------------------------------------------------\n",
            "minimum,average and maximum ratios of phosphorous are : 5.00 , 18.75 and 30.00 respectively\n",
            "----------------------------------------------------------------------\n",
            "minimum,average and maximum ratios of potasium are : 35.00 , 40.21 and 45.00 respectively\n",
            "----------------------------------------------------------------------\n",
            "minimum,average and maximum temperatures are : 18.07 , 21.84 and 24.96 respectively\n",
            "----------------------------------------------------------------------\n",
            "minimum,average and maximum percentages of humidity are : 85.13 , 90.13 and 95.00 respectively\n",
            "----------------------------------------------------------------------\n",
            "minimum,average and maximum values of ph are : 5.56 , 6.43 and 7.20 respectively\n",
            "----------------------------------------------------------------------\n",
            "minimum,average and maximum values of rainfall in milimeter  are : 102.52 , 107.53 and 112.48 respectively\n",
            "None\n",
            "requirements of  banana  are:\n",
            "**********************************************************************\n",
            "minimum,average and maximum ratios of nitrogen are : 80.00 , 100.23 and 120.00 respectively\n",
            "----------------------------------------------------------------------\n",
            "minimum,average and maximum ratios of phosphorous are : 70.00 , 82.01 and 95.00 respectively\n",
            "----------------------------------------------------------------------\n",
            "minimum,average and maximum ratios of potasium are : 45.00 , 50.05 and 55.00 respectively\n",
            "----------------------------------------------------------------------\n",
            "minimum,average and maximum temperatures are : 25.01 , 27.38 and 29.91 respectively\n",
            "----------------------------------------------------------------------\n",
            "minimum,average and maximum percentages of humidity are : 75.03 , 80.36 and 84.98 respectively\n",
            "----------------------------------------------------------------------\n",
            "minimum,average and maximum values of ph are : 5.51 , 5.98 and 6.49 respectively\n",
            "----------------------------------------------------------------------\n",
            "minimum,average and maximum values of rainfall in milimeter  are : 90.11 , 104.63 and 119.85 respectively\n",
            "None\n",
            "requirements of  mango  are:\n",
            "**********************************************************************\n",
            "minimum,average and maximum ratios of nitrogen are : 0.00 , 20.07 and 40.00 respectively\n",
            "----------------------------------------------------------------------\n",
            "minimum,average and maximum ratios of phosphorous are : 15.00 , 27.18 and 40.00 respectively\n",
            "----------------------------------------------------------------------\n",
            "minimum,average and maximum ratios of potasium are : 25.00 , 29.92 and 35.00 respectively\n",
            "----------------------------------------------------------------------\n",
            "minimum,average and maximum temperatures are : 27.00 , 31.21 and 35.99 respectively\n",
            "----------------------------------------------------------------------\n",
            "minimum,average and maximum percentages of humidity are : 45.02 , 50.16 and 54.96 respectively\n",
            "----------------------------------------------------------------------\n",
            "minimum,average and maximum values of ph are : 4.51 , 5.77 and 6.97 respectively\n",
            "----------------------------------------------------------------------\n",
            "minimum,average and maximum values of rainfall in milimeter  are : 89.29 , 94.70 and 100.81 respectively\n",
            "None\n",
            "requirements of  grapes  are:\n",
            "**********************************************************************\n",
            "minimum,average and maximum ratios of nitrogen are : 0.00 , 23.18 and 40.00 respectively\n",
            "----------------------------------------------------------------------\n",
            "minimum,average and maximum ratios of phosphorous are : 120.00 , 132.53 and 145.00 respectively\n",
            "----------------------------------------------------------------------\n",
            "minimum,average and maximum ratios of potasium are : 195.00 , 200.11 and 205.00 respectively\n",
            "----------------------------------------------------------------------\n",
            "minimum,average and maximum temperatures are : 8.83 , 23.85 and 41.95 respectively\n",
            "----------------------------------------------------------------------\n",
            "minimum,average and maximum percentages of humidity are : 80.02 , 81.88 and 83.98 respectively\n",
            "----------------------------------------------------------------------\n",
            "minimum,average and maximum values of ph are : 5.51 , 6.03 and 6.50 respectively\n",
            "----------------------------------------------------------------------\n",
            "minimum,average and maximum values of rainfall in milimeter  are : 65.01 , 69.61 and 74.92 respectively\n",
            "None\n",
            "requirements of  watermelon  are:\n",
            "**********************************************************************\n",
            "minimum,average and maximum ratios of nitrogen are : 80.00 , 99.42 and 120.00 respectively\n",
            "----------------------------------------------------------------------\n",
            "minimum,average and maximum ratios of phosphorous are : 5.00 , 17.00 and 30.00 respectively\n",
            "----------------------------------------------------------------------\n",
            "minimum,average and maximum ratios of potasium are : 45.00 , 50.22 and 55.00 respectively\n",
            "----------------------------------------------------------------------\n",
            "minimum,average and maximum temperatures are : 24.04 , 25.59 and 26.99 respectively\n",
            "----------------------------------------------------------------------\n",
            "minimum,average and maximum percentages of humidity are : 80.03 , 85.16 and 89.98 respectively\n",
            "----------------------------------------------------------------------\n",
            "minimum,average and maximum values of ph are : 6.00 , 6.50 and 6.96 respectively\n",
            "----------------------------------------------------------------------\n",
            "minimum,average and maximum values of rainfall in milimeter  are : 40.13 , 50.79 and 59.76 respectively\n",
            "None\n",
            "requirements of  muskmelon  are:\n",
            "**********************************************************************\n",
            "minimum,average and maximum ratios of nitrogen are : 80.00 , 100.32 and 120.00 respectively\n",
            "----------------------------------------------------------------------\n",
            "minimum,average and maximum ratios of phosphorous are : 5.00 , 17.72 and 30.00 respectively\n",
            "----------------------------------------------------------------------\n",
            "minimum,average and maximum ratios of potasium are : 45.00 , 50.08 and 55.00 respectively\n",
            "----------------------------------------------------------------------\n",
            "minimum,average and maximum temperatures are : 27.02 , 28.66 and 29.94 respectively\n",
            "----------------------------------------------------------------------\n",
            "minimum,average and maximum percentages of humidity are : 90.02 , 92.34 and 94.96 respectively\n",
            "----------------------------------------------------------------------\n",
            "minimum,average and maximum values of ph are : 6.00 , 6.36 and 6.78 respectively\n",
            "----------------------------------------------------------------------\n",
            "minimum,average and maximum values of rainfall in milimeter  are : 20.21 , 24.69 and 29.87 respectively\n",
            "None\n",
            "requirements of  apple  are:\n",
            "**********************************************************************\n",
            "minimum,average and maximum ratios of nitrogen are : 0.00 , 20.80 and 40.00 respectively\n",
            "----------------------------------------------------------------------\n",
            "minimum,average and maximum ratios of phosphorous are : 120.00 , 134.22 and 145.00 respectively\n",
            "----------------------------------------------------------------------\n",
            "minimum,average and maximum ratios of potasium are : 195.00 , 199.89 and 205.00 respectively\n",
            "----------------------------------------------------------------------\n",
            "minimum,average and maximum temperatures are : 21.04 , 22.63 and 24.00 respectively\n",
            "----------------------------------------------------------------------\n",
            "minimum,average and maximum percentages of humidity are : 90.03 , 92.33 and 94.92 respectively\n",
            "----------------------------------------------------------------------\n",
            "minimum,average and maximum values of ph are : 5.51 , 5.93 and 6.50 respectively\n",
            "----------------------------------------------------------------------\n",
            "minimum,average and maximum values of rainfall in milimeter  are : 100.12 , 112.65 and 124.98 respectively\n",
            "None\n",
            "requirements of  orange  are:\n",
            "**********************************************************************\n",
            "minimum,average and maximum ratios of nitrogen are : 0.00 , 19.58 and 40.00 respectively\n",
            "----------------------------------------------------------------------\n",
            "minimum,average and maximum ratios of phosphorous are : 5.00 , 16.55 and 30.00 respectively\n",
            "----------------------------------------------------------------------\n",
            "minimum,average and maximum ratios of potasium are : 5.00 , 10.01 and 15.00 respectively\n",
            "----------------------------------------------------------------------\n",
            "minimum,average and maximum temperatures are : 10.01 , 22.77 and 34.91 respectively\n",
            "----------------------------------------------------------------------\n",
            "minimum,average and maximum percentages of humidity are : 90.01 , 92.17 and 94.96 respectively\n",
            "----------------------------------------------------------------------\n",
            "minimum,average and maximum values of ph are : 6.01 , 7.02 and 8.00 respectively\n",
            "----------------------------------------------------------------------\n",
            "minimum,average and maximum values of rainfall in milimeter  are : 100.17 , 110.47 and 119.69 respectively\n",
            "None\n",
            "requirements of  papaya  are:\n",
            "**********************************************************************\n",
            "minimum,average and maximum ratios of nitrogen are : 31.00 , 49.88 and 70.00 respectively\n",
            "----------------------------------------------------------------------\n",
            "minimum,average and maximum ratios of phosphorous are : 46.00 , 59.05 and 70.00 respectively\n",
            "----------------------------------------------------------------------\n",
            "minimum,average and maximum ratios of potasium are : 45.00 , 50.04 and 55.00 respectively\n",
            "----------------------------------------------------------------------\n",
            "minimum,average and maximum temperatures are : 23.01 , 33.72 and 43.68 respectively\n",
            "----------------------------------------------------------------------\n",
            "minimum,average and maximum percentages of humidity are : 90.04 , 92.40 and 94.94 respectively\n",
            "----------------------------------------------------------------------\n",
            "minimum,average and maximum values of ph are : 6.50 , 6.74 and 6.99 respectively\n",
            "----------------------------------------------------------------------\n",
            "minimum,average and maximum values of rainfall in milimeter  are : 40.35 , 142.63 and 248.86 respectively\n",
            "None\n",
            "requirements of  coconut  are:\n",
            "**********************************************************************\n",
            "minimum,average and maximum ratios of nitrogen are : 0.00 , 21.98 and 40.00 respectively\n",
            "----------------------------------------------------------------------\n",
            "minimum,average and maximum ratios of phosphorous are : 5.00 , 16.93 and 30.00 respectively\n",
            "----------------------------------------------------------------------\n",
            "minimum,average and maximum ratios of potasium are : 25.00 , 30.59 and 35.00 respectively\n",
            "----------------------------------------------------------------------\n",
            "minimum,average and maximum temperatures are : 25.01 , 27.41 and 29.87 respectively\n",
            "----------------------------------------------------------------------\n",
            "minimum,average and maximum percentages of humidity are : 90.02 , 94.84 and 99.98 respectively\n",
            "----------------------------------------------------------------------\n",
            "minimum,average and maximum values of ph are : 5.50 , 5.98 and 6.47 respectively\n",
            "----------------------------------------------------------------------\n",
            "minimum,average and maximum values of rainfall in milimeter  are : 131.09 , 175.69 and 225.63 respectively\n",
            "None\n",
            "requirements of  cotton  are:\n",
            "**********************************************************************\n",
            "minimum,average and maximum ratios of nitrogen are : 100.00 , 117.77 and 140.00 respectively\n",
            "----------------------------------------------------------------------\n",
            "minimum,average and maximum ratios of phosphorous are : 35.00 , 46.24 and 60.00 respectively\n",
            "----------------------------------------------------------------------\n",
            "minimum,average and maximum ratios of potasium are : 15.00 , 19.56 and 25.00 respectively\n",
            "----------------------------------------------------------------------\n",
            "minimum,average and maximum temperatures are : 22.00 , 23.99 and 25.99 respectively\n",
            "----------------------------------------------------------------------\n",
            "minimum,average and maximum percentages of humidity are : 75.01 , 79.84 and 84.88 respectively\n",
            "----------------------------------------------------------------------\n",
            "minimum,average and maximum values of ph are : 5.80 , 6.91 and 7.99 respectively\n",
            "----------------------------------------------------------------------\n",
            "minimum,average and maximum values of rainfall in milimeter  are : 60.65 , 80.40 and 99.93 respectively\n",
            "None\n",
            "requirements of  jute  are:\n",
            "**********************************************************************\n",
            "minimum,average and maximum ratios of nitrogen are : 60.00 , 78.40 and 100.00 respectively\n",
            "----------------------------------------------------------------------\n",
            "minimum,average and maximum ratios of phosphorous are : 35.00 , 46.86 and 60.00 respectively\n",
            "----------------------------------------------------------------------\n",
            "minimum,average and maximum ratios of potasium are : 35.00 , 39.99 and 45.00 respectively\n",
            "----------------------------------------------------------------------\n",
            "minimum,average and maximum temperatures are : 23.09 , 24.96 and 26.99 respectively\n",
            "----------------------------------------------------------------------\n",
            "minimum,average and maximum percentages of humidity are : 70.88 , 79.64 and 89.89 respectively\n",
            "----------------------------------------------------------------------\n",
            "minimum,average and maximum values of ph are : 6.00 , 6.73 and 7.49 respectively\n",
            "----------------------------------------------------------------------\n",
            "minimum,average and maximum values of rainfall in milimeter  are : 150.24 , 174.79 and 199.84 respectively\n",
            "None\n",
            "requirements of  coffee  are:\n",
            "**********************************************************************\n",
            "minimum,average and maximum ratios of nitrogen are : 80.00 , 101.20 and 120.00 respectively\n",
            "----------------------------------------------------------------------\n",
            "minimum,average and maximum ratios of phosphorous are : 15.00 , 28.74 and 40.00 respectively\n",
            "----------------------------------------------------------------------\n",
            "minimum,average and maximum ratios of potasium are : 25.00 , 29.94 and 35.00 respectively\n",
            "----------------------------------------------------------------------\n",
            "minimum,average and maximum temperatures are : 23.06 , 25.54 and 27.92 respectively\n",
            "----------------------------------------------------------------------\n",
            "minimum,average and maximum percentages of humidity are : 50.05 , 58.87 and 69.95 respectively\n",
            "----------------------------------------------------------------------\n",
            "minimum,average and maximum values of ph are : 6.02 , 6.79 and 7.49 respectively\n",
            "----------------------------------------------------------------------\n",
            "minimum,average and maximum values of rainfall in milimeter  are : 115.16 , 158.07 and 199.47 respectively\n",
            "None\n"
          ]
        }
      ]
    },
    {
      "cell_type": "code",
      "source": [
        "def meen(feature):\n",
        "  for i in data.label.unique():\n",
        "    print(\"average amount of\",feature, \"required for \",i,\" is {0:.2f}\".format(data[data['label'] == i][feature].mean()))"
      ],
      "metadata": {
        "id": "bgkOq3y9P6xb"
      },
      "execution_count": null,
      "outputs": []
    },
    {
      "cell_type": "code",
      "source": [
        "meen('N')"
      ],
      "metadata": {
        "id": "_crEOkgq_taX",
        "colab": {
          "base_uri": "https://localhost:8080/"
        },
        "outputId": "3a2ffb29-020c-4824-d2cc-de1187f2616c"
      },
      "execution_count": null,
      "outputs": [
        {
          "output_type": "stream",
          "name": "stdout",
          "text": [
            "average amount of N required for  rice  is 79.89\n",
            "average amount of N required for  maize  is 77.76\n",
            "average amount of N required for  chickpea  is 40.09\n",
            "average amount of N required for  kidneybeans  is 20.75\n",
            "average amount of N required for  pigeonpeas  is 20.73\n",
            "average amount of N required for  mothbeans  is 21.44\n",
            "average amount of N required for  mungbean  is 20.99\n",
            "average amount of N required for  blackgram  is 40.02\n",
            "average amount of N required for  lentil  is 18.77\n",
            "average amount of N required for  pomegranate  is 18.87\n",
            "average amount of N required for  banana  is 100.23\n",
            "average amount of N required for  mango  is 20.07\n",
            "average amount of N required for  grapes  is 23.18\n",
            "average amount of N required for  watermelon  is 99.42\n",
            "average amount of N required for  muskmelon  is 100.32\n",
            "average amount of N required for  apple  is 20.80\n",
            "average amount of N required for  orange  is 19.58\n",
            "average amount of N required for  papaya  is 49.88\n",
            "average amount of N required for  coconut  is 21.98\n",
            "average amount of N required for  cotton  is 117.77\n",
            "average amount of N required for  jute  is 78.40\n",
            "average amount of N required for  coffee  is 101.20\n"
          ]
        }
      ]
    },
    {
      "cell_type": "code",
      "source": [
        "meen('K')"
      ],
      "metadata": {
        "id": "Fd68SA6pAO8z",
        "colab": {
          "base_uri": "https://localhost:8080/"
        },
        "outputId": "e9cd1e13-59e1-4679-d600-c9074e68fa41"
      },
      "execution_count": null,
      "outputs": [
        {
          "output_type": "stream",
          "name": "stdout",
          "text": [
            "average amount of K required for  rice  is 39.87\n",
            "average amount of K required for  maize  is 19.79\n",
            "average amount of K required for  chickpea  is 79.92\n",
            "average amount of K required for  kidneybeans  is 20.05\n",
            "average amount of K required for  pigeonpeas  is 20.29\n",
            "average amount of K required for  mothbeans  is 20.23\n",
            "average amount of K required for  mungbean  is 19.87\n",
            "average amount of K required for  blackgram  is 19.24\n",
            "average amount of K required for  lentil  is 19.41\n",
            "average amount of K required for  pomegranate  is 40.21\n",
            "average amount of K required for  banana  is 50.05\n",
            "average amount of K required for  mango  is 29.92\n",
            "average amount of K required for  grapes  is 200.11\n",
            "average amount of K required for  watermelon  is 50.22\n",
            "average amount of K required for  muskmelon  is 50.08\n",
            "average amount of K required for  apple  is 199.89\n",
            "average amount of K required for  orange  is 10.01\n",
            "average amount of K required for  papaya  is 50.04\n",
            "average amount of K required for  coconut  is 30.59\n",
            "average amount of K required for  cotton  is 19.56\n",
            "average amount of K required for  jute  is 39.99\n",
            "average amount of K required for  coffee  is 29.94\n"
          ]
        }
      ]
    },
    {
      "cell_type": "code",
      "source": [
        "meen('P')"
      ],
      "metadata": {
        "id": "D-X74JuCAZGZ",
        "colab": {
          "base_uri": "https://localhost:8080/"
        },
        "outputId": "87724a73-b915-4b88-e94d-214813123436"
      },
      "execution_count": null,
      "outputs": [
        {
          "output_type": "stream",
          "name": "stdout",
          "text": [
            "average amount of P required for  rice  is 47.58\n",
            "average amount of P required for  maize  is 48.44\n",
            "average amount of P required for  chickpea  is 67.79\n",
            "average amount of P required for  kidneybeans  is 67.54\n",
            "average amount of P required for  pigeonpeas  is 67.73\n",
            "average amount of P required for  mothbeans  is 48.01\n",
            "average amount of P required for  mungbean  is 47.28\n",
            "average amount of P required for  blackgram  is 67.47\n",
            "average amount of P required for  lentil  is 68.36\n",
            "average amount of P required for  pomegranate  is 18.75\n",
            "average amount of P required for  banana  is 82.01\n",
            "average amount of P required for  mango  is 27.18\n",
            "average amount of P required for  grapes  is 132.53\n",
            "average amount of P required for  watermelon  is 17.00\n",
            "average amount of P required for  muskmelon  is 17.72\n",
            "average amount of P required for  apple  is 134.22\n",
            "average amount of P required for  orange  is 16.55\n",
            "average amount of P required for  papaya  is 59.05\n",
            "average amount of P required for  coconut  is 16.93\n",
            "average amount of P required for  cotton  is 46.24\n",
            "average amount of P required for  jute  is 46.86\n",
            "average amount of P required for  coffee  is 28.74\n"
          ]
        }
      ]
    },
    {
      "cell_type": "code",
      "source": [
        "meen('temperature')"
      ],
      "metadata": {
        "colab": {
          "base_uri": "https://localhost:8080/"
        },
        "id": "7g2EQhO_old6",
        "outputId": "80034c42-61c3-43da-a5bd-3cc8b706d628"
      },
      "execution_count": null,
      "outputs": [
        {
          "output_type": "stream",
          "name": "stdout",
          "text": [
            "average amount of temperature required for  rice  is 23.69\n",
            "average amount of temperature required for  maize  is 22.39\n",
            "average amount of temperature required for  chickpea  is 18.87\n",
            "average amount of temperature required for  kidneybeans  is 20.12\n",
            "average amount of temperature required for  pigeonpeas  is 27.74\n",
            "average amount of temperature required for  mothbeans  is 28.19\n",
            "average amount of temperature required for  mungbean  is 28.53\n",
            "average amount of temperature required for  blackgram  is 29.97\n",
            "average amount of temperature required for  lentil  is 24.51\n",
            "average amount of temperature required for  pomegranate  is 21.84\n",
            "average amount of temperature required for  banana  is 27.38\n",
            "average amount of temperature required for  mango  is 31.21\n",
            "average amount of temperature required for  grapes  is 23.85\n",
            "average amount of temperature required for  watermelon  is 25.59\n",
            "average amount of temperature required for  muskmelon  is 28.66\n",
            "average amount of temperature required for  apple  is 22.63\n",
            "average amount of temperature required for  orange  is 22.77\n",
            "average amount of temperature required for  papaya  is 33.72\n",
            "average amount of temperature required for  coconut  is 27.41\n",
            "average amount of temperature required for  cotton  is 23.99\n",
            "average amount of temperature required for  jute  is 24.96\n",
            "average amount of temperature required for  coffee  is 25.54\n"
          ]
        }
      ]
    },
    {
      "cell_type": "code",
      "source": [
        "meen('humidity')"
      ],
      "metadata": {
        "colab": {
          "base_uri": "https://localhost:8080/"
        },
        "id": "WXPay4P7omdz",
        "outputId": "736d57d2-5c39-4289-cb3f-f03cf07b62a1"
      },
      "execution_count": null,
      "outputs": [
        {
          "output_type": "stream",
          "name": "stdout",
          "text": [
            "average amount of humidity required for  rice  is 82.27\n",
            "average amount of humidity required for  maize  is 65.09\n",
            "average amount of humidity required for  chickpea  is 16.86\n",
            "average amount of humidity required for  kidneybeans  is 21.61\n",
            "average amount of humidity required for  pigeonpeas  is 48.06\n",
            "average amount of humidity required for  mothbeans  is 53.16\n",
            "average amount of humidity required for  mungbean  is 85.50\n",
            "average amount of humidity required for  blackgram  is 65.12\n",
            "average amount of humidity required for  lentil  is 64.80\n",
            "average amount of humidity required for  pomegranate  is 90.13\n",
            "average amount of humidity required for  banana  is 80.36\n",
            "average amount of humidity required for  mango  is 50.16\n",
            "average amount of humidity required for  grapes  is 81.88\n",
            "average amount of humidity required for  watermelon  is 85.16\n",
            "average amount of humidity required for  muskmelon  is 92.34\n",
            "average amount of humidity required for  apple  is 92.33\n",
            "average amount of humidity required for  orange  is 92.17\n",
            "average amount of humidity required for  papaya  is 92.40\n",
            "average amount of humidity required for  coconut  is 94.84\n",
            "average amount of humidity required for  cotton  is 79.84\n",
            "average amount of humidity required for  jute  is 79.64\n",
            "average amount of humidity required for  coffee  is 58.87\n"
          ]
        }
      ]
    },
    {
      "cell_type": "code",
      "source": [
        "meen('rainfall')"
      ],
      "metadata": {
        "colab": {
          "base_uri": "https://localhost:8080/"
        },
        "id": "VEqt0VDnoqAk",
        "outputId": "d7786910-874e-43fb-b786-fb0e593653ec"
      },
      "execution_count": null,
      "outputs": [
        {
          "output_type": "stream",
          "name": "stdout",
          "text": [
            "average amount of rainfall required for  rice  is 236.18\n",
            "average amount of rainfall required for  maize  is 84.77\n",
            "average amount of rainfall required for  chickpea  is 80.06\n",
            "average amount of rainfall required for  kidneybeans  is 105.92\n",
            "average amount of rainfall required for  pigeonpeas  is 149.46\n",
            "average amount of rainfall required for  mothbeans  is 51.20\n",
            "average amount of rainfall required for  mungbean  is 48.40\n",
            "average amount of rainfall required for  blackgram  is 67.88\n",
            "average amount of rainfall required for  lentil  is 45.68\n",
            "average amount of rainfall required for  pomegranate  is 107.53\n",
            "average amount of rainfall required for  banana  is 104.63\n",
            "average amount of rainfall required for  mango  is 94.70\n",
            "average amount of rainfall required for  grapes  is 69.61\n",
            "average amount of rainfall required for  watermelon  is 50.79\n",
            "average amount of rainfall required for  muskmelon  is 24.69\n",
            "average amount of rainfall required for  apple  is 112.65\n",
            "average amount of rainfall required for  orange  is 110.47\n",
            "average amount of rainfall required for  papaya  is 142.63\n",
            "average amount of rainfall required for  coconut  is 175.69\n",
            "average amount of rainfall required for  cotton  is 80.40\n",
            "average amount of rainfall required for  jute  is 174.79\n",
            "average amount of rainfall required for  coffee  is 158.07\n"
          ]
        }
      ]
    },
    {
      "cell_type": "code",
      "source": [
        "def compare (feature):\n",
        "  print(\"Crops which require greater than average\", feature,'\\n------------------------------')\n",
        "  print(data[data[feature] > data [feature].mean()]['label'].unique(),'\\n------------------------------')\n",
        "  print(\"\\n\") \n",
        "  print(\"Crops which require less than average\", feature,'\\n------------------------------')\n",
        "  print(data[data[feature] <= data[feature].mean()]['label'].unique(),'\\n------------------------------')"
      ],
      "metadata": {
        "id": "QQuEVKkIpxky"
      },
      "execution_count": null,
      "outputs": []
    },
    {
      "cell_type": "code",
      "source": [
        "compare('N')"
      ],
      "metadata": {
        "colab": {
          "base_uri": "https://localhost:8080/"
        },
        "id": "DdYMrjF5wNEf",
        "outputId": "71307c58-3326-488c-c8d6-69ee7dc5c420"
      },
      "execution_count": null,
      "outputs": [
        {
          "output_type": "stream",
          "name": "stdout",
          "text": [
            "Crops which require greater than average N \n",
            "------------------------------\n",
            "['rice' 'maize' 'chickpea' 'blackgram' 'banana' 'watermelon' 'muskmelon'\n",
            " 'papaya' 'cotton' 'jute' 'coffee'] \n",
            "------------------------------\n",
            "\n",
            "\n",
            "Crops which require less than average N \n",
            "------------------------------\n",
            "['chickpea' 'kidneybeans' 'pigeonpeas' 'mothbeans' 'mungbean' 'blackgram'\n",
            " 'lentil' 'pomegranate' 'mango' 'grapes' 'apple' 'orange' 'papaya'\n",
            " 'coconut'] \n",
            "------------------------------\n"
          ]
        }
      ]
    },
    {
      "cell_type": "code",
      "source": [
        "compare('K')"
      ],
      "metadata": {
        "colab": {
          "base_uri": "https://localhost:8080/"
        },
        "id": "FsYpy_iExGBs",
        "outputId": "aea3d1d2-60e4-43b9-8dbc-1265831775c3"
      },
      "execution_count": null,
      "outputs": [
        {
          "output_type": "stream",
          "name": "stdout",
          "text": [
            "Crops which require greater than average K \n",
            "------------------------------\n",
            "['chickpea' 'banana' 'grapes' 'watermelon' 'muskmelon' 'apple' 'papaya'] \n",
            "------------------------------\n",
            "\n",
            "\n",
            "Crops which require less than average K \n",
            "------------------------------\n",
            "['rice' 'maize' 'kidneybeans' 'pigeonpeas' 'mothbeans' 'mungbean'\n",
            " 'blackgram' 'lentil' 'pomegranate' 'banana' 'mango' 'watermelon'\n",
            " 'muskmelon' 'orange' 'papaya' 'coconut' 'cotton' 'jute' 'coffee'] \n",
            "------------------------------\n"
          ]
        }
      ]
    },
    {
      "cell_type": "code",
      "source": [
        "compare('P')"
      ],
      "metadata": {
        "colab": {
          "base_uri": "https://localhost:8080/"
        },
        "id": "MNVgrvJPxJhz",
        "outputId": "2cd4f78e-7a84-4145-9a04-14d369396634"
      },
      "execution_count": null,
      "outputs": [
        {
          "output_type": "stream",
          "name": "stdout",
          "text": [
            "Crops which require greater than average P \n",
            "------------------------------\n",
            "['rice' 'maize' 'chickpea' 'kidneybeans' 'pigeonpeas' 'mothbeans'\n",
            " 'mungbean' 'blackgram' 'lentil' 'banana' 'grapes' 'apple' 'papaya'\n",
            " 'cotton' 'jute'] \n",
            "------------------------------\n",
            "\n",
            "\n",
            "Crops which require less than average P \n",
            "------------------------------\n",
            "['rice' 'maize' 'mothbeans' 'mungbean' 'pomegranate' 'mango' 'watermelon'\n",
            " 'muskmelon' 'orange' 'papaya' 'coconut' 'cotton' 'jute' 'coffee'] \n",
            "------------------------------\n"
          ]
        }
      ]
    },
    {
      "cell_type": "code",
      "source": [
        "compare('temperature')"
      ],
      "metadata": {
        "colab": {
          "base_uri": "https://localhost:8080/"
        },
        "id": "1wq6ubMzxKL3",
        "outputId": "bd4a348a-6c64-48bc-c6ca-2da6919e53d8"
      },
      "execution_count": null,
      "outputs": [
        {
          "output_type": "stream",
          "name": "stdout",
          "text": [
            "Crops which require greater than average temperature \n",
            "------------------------------\n",
            "['rice' 'maize' 'pigeonpeas' 'mothbeans' 'mungbean' 'blackgram' 'lentil'\n",
            " 'banana' 'mango' 'grapes' 'watermelon' 'muskmelon' 'orange' 'papaya'\n",
            " 'coconut' 'cotton' 'jute' 'coffee'] \n",
            "------------------------------\n",
            "\n",
            "\n",
            "Crops which require less than average temperature \n",
            "------------------------------\n",
            "['rice' 'maize' 'chickpea' 'kidneybeans' 'pigeonpeas' 'mothbeans'\n",
            " 'blackgram' 'lentil' 'pomegranate' 'banana' 'grapes' 'watermelon' 'apple'\n",
            " 'orange' 'papaya' 'coconut' 'cotton' 'jute' 'coffee'] \n",
            "------------------------------\n"
          ]
        }
      ]
    },
    {
      "cell_type": "code",
      "source": [
        "compare('humidity')"
      ],
      "metadata": {
        "colab": {
          "base_uri": "https://localhost:8080/"
        },
        "id": "T94eF_CbxK0w",
        "outputId": "7fb81771-5896-4735-d577-78599847827c"
      },
      "execution_count": null,
      "outputs": [
        {
          "output_type": "stream",
          "name": "stdout",
          "text": [
            "Crops which require greater than average humidity \n",
            "------------------------------\n",
            "['rice' 'maize' 'mungbean' 'pomegranate' 'banana' 'grapes' 'watermelon'\n",
            " 'muskmelon' 'apple' 'orange' 'papaya' 'coconut' 'cotton' 'jute'] \n",
            "------------------------------\n",
            "\n",
            "\n",
            "Crops which require less than average humidity \n",
            "------------------------------\n",
            "['maize' 'chickpea' 'kidneybeans' 'pigeonpeas' 'mothbeans' 'blackgram'\n",
            " 'lentil' 'mango' 'jute' 'coffee'] \n",
            "------------------------------\n"
          ]
        }
      ]
    },
    {
      "cell_type": "code",
      "source": [
        "compare('ph')"
      ],
      "metadata": {
        "colab": {
          "base_uri": "https://localhost:8080/"
        },
        "id": "Q0gxLOUJxLYZ",
        "outputId": "c35affed-b220-4bab-ffeb-5cd778c5cd47"
      },
      "execution_count": null,
      "outputs": [
        {
          "output_type": "stream",
          "name": "stdout",
          "text": [
            "Crops which require greater than average ph \n",
            "------------------------------\n",
            "['rice' 'maize' 'chickpea' 'pigeonpeas' 'mothbeans' 'mungbean' 'blackgram'\n",
            " 'lentil' 'pomegranate' 'banana' 'mango' 'grapes' 'watermelon' 'muskmelon'\n",
            " 'apple' 'orange' 'papaya' 'coconut' 'cotton' 'jute' 'coffee'] \n",
            "------------------------------\n",
            "\n",
            "\n",
            "Crops which require less than average ph \n",
            "------------------------------\n",
            "['rice' 'maize' 'chickpea' 'kidneybeans' 'pigeonpeas' 'mothbeans'\n",
            " 'mungbean' 'lentil' 'pomegranate' 'banana' 'mango' 'grapes' 'watermelon'\n",
            " 'muskmelon' 'apple' 'orange' 'coconut' 'cotton' 'jute' 'coffee'] \n",
            "------------------------------\n"
          ]
        }
      ]
    },
    {
      "cell_type": "code",
      "source": [
        "compare('rainfall')"
      ],
      "metadata": {
        "colab": {
          "base_uri": "https://localhost:8080/"
        },
        "id": "7MrMydBfxMA1",
        "outputId": "ca7c0d62-9b2a-4535-80ab-6b19faa25bbb"
      },
      "execution_count": null,
      "outputs": [
        {
          "output_type": "stream",
          "name": "stdout",
          "text": [
            "Crops which require greater than average rainfall \n",
            "------------------------------\n",
            "['rice' 'maize' 'kidneybeans' 'pigeonpeas' 'pomegranate' 'banana' 'apple'\n",
            " 'orange' 'papaya' 'coconut' 'jute' 'coffee'] \n",
            "------------------------------\n",
            "\n",
            "\n",
            "Crops which require less than average rainfall \n",
            "------------------------------\n",
            "['maize' 'chickpea' 'kidneybeans' 'pigeonpeas' 'mothbeans' 'mungbean'\n",
            " 'blackgram' 'lentil' 'pomegranate' 'banana' 'mango' 'grapes' 'watermelon'\n",
            " 'muskmelon' 'apple' 'orange' 'papaya' 'cotton'] \n",
            "------------------------------\n"
          ]
        }
      ]
    },
    {
      "cell_type": "markdown",
      "source": [
        "Visualization of the data"
      ],
      "metadata": {
        "id": "9X2ib1b1zM5U"
      }
    },
    {
      "cell_type": "code",
      "source": [
        "sns.heatmap(data.corr(), annot = True)"
      ],
      "metadata": {
        "colab": {
          "base_uri": "https://localhost:8080/",
          "height": 339
        },
        "id": "A75T_qHw6GHC",
        "outputId": "9c4524d2-7952-4ca9-d40b-15400fab0300"
      },
      "execution_count": null,
      "outputs": [
        {
          "output_type": "execute_result",
          "data": {
            "text/plain": [
              "<matplotlib.axes._subplots.AxesSubplot at 0x7fdacebdee10>"
            ]
          },
          "metadata": {},
          "execution_count": 33
        },
        {
          "output_type": "display_data",
          "data": {
            "text/plain": [
              "<Figure size 432x288 with 2 Axes>"
            ],
            "image/png": "[encoded data removed]"
          },
          "metadata": {
            "needs_background": "light"
          }
        }
      ]
    },
    {
      "cell_type": "markdown",
      "source": [
        "No significant CORRELATION!!!!..."
      ],
      "metadata": {
        "id": "LDnqqdlPS-WD"
      }
    },
    {
      "cell_type": "code",
      "source": [
        "plt.figure(figsize=(10, 4))\n",
        "plt.subplot(1,2,1)\n",
        "sns.distplot(data['N'])\n",
        "plt.xlabel(\"ratio of nitrogen\")\n",
        "plt.grid()\n",
        "plt.subplot(1,2,2)\n",
        "sns.histplot(data['N'])\n",
        "plt.xlabel(\"ratio of nitrogen\")\n",
        "plt.show()"
      ],
      "metadata": {
        "colab": {
          "base_uri": "https://localhost:8080/",
          "height": 279
        },
        "id": "pmZfcZkV5BGJ",
        "outputId": "ead7b99a-9168-49c6-ff73-a022fb8b00e9"
      },
      "execution_count": null,
      "outputs": [
        {
          "output_type": "display_data",
          "data": {
            "text/plain": [
              "<Figure size 720x288 with 2 Axes>"
            ],
            "image/png": "[encoded data removed]"
          },
          "metadata": {
            "needs_background": "light"
          }
        }
      ]
    },
    {
      "cell_type": "markdown",
      "source": [
        "from above plot we can say majority of the crops require low ratio of nitrogen i.e.\n",
        " N < 120"
      ],
      "metadata": {
        "id": "Aoo57LLh_NzI"
      }
    },
    {
      "cell_type": "code",
      "source": [
        "plt.figure(figsize=(10, 4))\n",
        "plt.subplot(1,2,1)\n",
        "sns.distplot(data['K'])\n",
        "plt.xlabel(\"ratio of potassium\")\n",
        "plt.grid()\n",
        "plt.subplot(1,2,2)\n",
        "sns.histplot(data['K'])\n",
        "plt.xlabel(\"ratio of potassium\")\n",
        "plt.show()"
      ],
      "metadata": {
        "colab": {
          "base_uri": "https://localhost:8080/",
          "height": 279
        },
        "id": "F5BIC_yd5Nq6",
        "outputId": "9cebb2ca-448c-4572-e18b-2fedc01b543d"
      },
      "execution_count": null,
      "outputs": [
        {
          "output_type": "display_data",
          "data": {
            "text/plain": [
              "<Figure size 720x288 with 2 Axes>"
            ],
            "image/png": "[encoded data removed]"
          },
          "metadata": {
            "needs_background": "light"
          }
        }
      ]
    },
    {
      "cell_type": "markdown",
      "source": [
        "from above plot we can say majority of the crops require low ratio of potassium i.e.\n",
        " K < 100"
      ],
      "metadata": {
        "id": "Q5SI9dvIAKlt"
      }
    },
    {
      "cell_type": "code",
      "source": [
        "plt.figure(figsize=(10, 4))\n",
        "plt.subplot(1,2,1)\n",
        "sns.distplot(data['P'])\n",
        "plt.xlabel(\"ratio of phosphorous\")\n",
        "plt.grid()\n",
        "plt.subplot(1,2,2)\n",
        "sns.histplot(data['P'])\n",
        "plt.xlabel(\"ratio of phosphorous\")\n",
        "plt.show()"
      ],
      "metadata": {
        "colab": {
          "base_uri": "https://localhost:8080/",
          "height": 279
        },
        "id": "Nc5EGH4l5a6V",
        "outputId": "c655c94e-fddd-4bce-f238-e7e619387e1b"
      },
      "execution_count": null,
      "outputs": [
        {
          "output_type": "display_data",
          "data": {
            "text/plain": [
              "<Figure size 720x288 with 2 Axes>"
            ],
            "image/png": "[encoded data removed]"
          },
          "metadata": {
            "needs_background": "light"
          }
        }
      ]
    },
    {
      "cell_type": "markdown",
      "source": [
        "from above plot we can say majority of the crops require low ratio of potassium i.e.\n",
        " P < 100"
      ],
      "metadata": {
        "id": "pP527NLeAlYT"
      }
    },
    {
      "cell_type": "code",
      "source": [
        "plt.figure(figsize=(10, 4))\n",
        "plt.subplot(1,2,1)\n",
        "sns.distplot(data['temperature'])\n",
        "plt.grid()\n",
        "plt.subplot(1,2,2)\n",
        "sns.histplot(data['temperature'])\n",
        "plt.show()"
      ],
      "metadata": {
        "colab": {
          "base_uri": "https://localhost:8080/",
          "height": 282
        },
        "id": "XFJw45WmxkBX",
        "outputId": "56533c6f-9282-425a-a887-d50dfeeda4fb"
      },
      "execution_count": null,
      "outputs": [
        {
          "output_type": "display_data",
          "data": {
            "text/plain": [
              "<Figure size 720x288 with 2 Axes>"
            ],
            "image/png": "[encoded data removed]"
          },
          "metadata": {
            "needs_background": "light"
          }
        }
      ]
    },
    {
      "cell_type": "markdown",
      "source": [
        "from above plot we can say majority of the crops require tempreature between 10 and 40 degree celcius i.e. 10 < temperature < 40"
      ],
      "metadata": {
        "id": "rYylIw77m0ty"
      }
    },
    {
      "cell_type": "code",
      "source": [
        "plt.figure(figsize=(10, 4))\n",
        "plt.subplot(1,2,1)\n",
        "sns.distplot(data['humidity'])\n",
        "plt.xlabel(\"percentage of humidity\")\n",
        "plt.grid()\n",
        "plt.subplot(1,2,2)\n",
        "sns.histplot(data['humidity'])\n",
        "plt.xlabel(\"percentage of humidity\")\n",
        "plt.show()"
      ],
      "metadata": {
        "colab": {
          "base_uri": "https://localhost:8080/",
          "height": 279
        },
        "id": "7Nm9zTs-5hVU",
        "outputId": "5b66284a-1c4d-42a4-b55a-61f1b1fe766c"
      },
      "execution_count": null,
      "outputs": [
        {
          "output_type": "display_data",
          "data": {
            "text/plain": [
              "<Figure size 720x288 with 2 Axes>"
            ],
            "image/png": "[encoded data removed]"
          },
          "metadata": {
            "needs_background": "light"
          }
        }
      ]
    },
    {
      "cell_type": "markdown",
      "source": [
        "from above plot we can say majority of the crops require high humidity percentage i.e.\n",
        " humidity > 25"
      ],
      "metadata": {
        "id": "WZjgCsWZnhvr"
      }
    },
    {
      "cell_type": "code",
      "source": [
        "plt.figure(figsize=(10, 4))\n",
        "plt.subplot(1,2,1)\n",
        "sns.distplot(data['ph'])\n",
        "plt.xlabel(\"ph value of soil\")\n",
        "plt.grid()\n",
        "plt.subplot(1,2,2)\n",
        "sns.histplot(data['ph'])\n",
        "plt.xlabel(\"ph value of soil\")\n",
        "plt.show()"
      ],
      "metadata": {
        "colab": {
          "base_uri": "https://localhost:8080/",
          "height": 282
        },
        "id": "FwDYjGu05o0r",
        "outputId": "ec3f7a43-2f43-4ba0-bf40-7a4b1937013b"
      },
      "execution_count": null,
      "outputs": [
        {
          "output_type": "display_data",
          "data": {
            "text/plain": [
              "<Figure size 720x288 with 2 Axes>"
            ],
            "image/png": "[encoded data removed]"
          },
          "metadata": {
            "needs_background": "light"
          }
        }
      ]
    },
    {
      "cell_type": "code",
      "source": [
        "plt.figure(figsize=(10, 4))\n",
        "plt.subplot(1,2,1)\n",
        "sns.distplot(data['rainfall'])\n",
        "plt.xlabel(\"rainfall in mm\")\n",
        "plt.grid()\n",
        "plt.subplot(1,2,2)\n",
        "sns.histplot(data['rainfall'])\n",
        "plt.xlabel(\"rainfall in mm\")\n",
        "plt.show()"
      ],
      "metadata": {
        "colab": {
          "base_uri": "https://localhost:8080/",
          "height": 279
        },
        "id": "j2qYHUsO5vzF",
        "outputId": "c227ea95-edaa-43dd-e821-c7e6903ff4b5"
      },
      "execution_count": null,
      "outputs": [
        {
          "output_type": "display_data",
          "data": {
            "text/plain": [
              "<Figure size 720x288 with 2 Axes>"
            ],
            "image/png": "[encoded data removed]"
          },
          "metadata": {
            "needs_background": "light"
          }
        }
      ]
    },
    {
      "cell_type": "markdown",
      "source": [
        "finding the crops that require extreme conditions\n",
        "1. high ratio of N\n",
        "2. high ratio of K\n",
        "3. high ratio of P\n",
        "4. high temp , low temp\n",
        "5. high ph , low ph\n",
        "6. low humidity\n",
        "7. high rainfall "
      ],
      "metadata": {
        "id": "1FOhmmiWoE3O"
      }
    },
    {
      "cell_type": "code",
      "source": [
        "print(\"1.crops requiring high ratio of N:\",data[data['N']>120]['label'].unique())\n",
        "print(\"2.crops requiring high ratio of K:\",data[data['K']>100]['label'].unique())\n",
        "print(\"3.crops requiring high ratio of P:\",data[data['P']>100]['label'].unique())\n",
        "print(\"4.crops requiring high temperature :\",data[data['temperature']>40]['label'].unique(),\"\\n  crops requiring low temperature :\",data[data['temperature']<10]['label'].unique())\n",
        "print(\"5.crops requiring highly basic soil :\",data[data['ph']>9]['label'].unique(),\"\\n  crops requiring highly acidic soil :\",data[data['ph']<4]['label'].unique())\n",
        "print(\"6.crops requiring low humidity:\",data[data['humidity']<25]['label'].unique())\n",
        "print(\"7.crops requiring high rainfall:\",data[data['rainfall']>200]['label'].unique())"
      ],
      "metadata": {
        "id": "p9vPJOge519j",
        "colab": {
          "base_uri": "https://localhost:8080/"
        },
        "outputId": "2ee7172e-077b-4b59-9618-2efc9750d3ed"
      },
      "execution_count": null,
      "outputs": [
        {
          "output_type": "stream",
          "name": "stdout",
          "text": [
            "1.crops requiring high ratio of N: ['cotton']\n",
            "2.crops requiring high ratio of K: ['grapes' 'apple']\n",
            "3.crops requiring high ratio of P: ['grapes' 'apple']\n",
            "4.crops requiring high temperature : ['grapes' 'papaya'] \n",
            "  crops requiring low temperature : ['grapes']\n",
            "5.crops requiring highly basic soil : ['mothbeans'] \n",
            "  crops requiring highly acidic soil : ['mothbeans']\n",
            "6.crops requiring low humidity: ['chickpea' 'kidneybeans']\n",
            "7.crops requiring high rainfall: ['rice' 'papaya' 'coconut']\n"
          ]
        }
      ]
    },
    {
      "cell_type": "markdown",
      "source": [
        "visualization of these out-liers"
      ],
      "metadata": {
        "id": "LUO_t820PXeD"
      }
    },
    {
      "cell_type": "code",
      "source": [
        "n=1\n",
        "plt.figure(figsize=(20,10))\n",
        "for i in data.iloc[:,:-1]:\n",
        "  plt.subplot(2,4,n)\n",
        "  data.boxplot(column=[i])\n",
        "  n+=1"
      ],
      "metadata": {
        "colab": {
          "base_uri": "https://localhost:8080/",
          "height": 572
        },
        "id": "HM09g2-ePW8n",
        "outputId": "8525ed5d-9888-4e64-8cba-51d5d1a82e1a"
      },
      "execution_count": null,
      "outputs": [
        {
          "output_type": "display_data",
          "data": {
            "text/plain": [
              "<Figure size 1440x720 with 7 Axes>"
            ],
            "image/png": "[encoded data removed]"
          },
          "metadata": {
            "needs_background": "light"
          }
        }
      ]
    },
    {
      "cell_type": "code",
      "source": [
        "data.head()"
      ],
      "metadata": {
        "colab": {
          "base_uri": "https://localhost:8080/",
          "height": 206
        },
        "id": "dGvpQvFhQINO",
        "outputId": "d733a574-0fda-455b-ff0a-7515a81984f5"
      },
      "execution_count": null,
      "outputs": [
        {
          "output_type": "execute_result",
          "data": {
            "text/plain": [
              "    N   P   K  temperature   humidity        ph    rainfall label\n",
              "0  90  42  43    20.879744  82.002744  6.502985  202.935536  rice\n",
              "1  85  58  41    21.770462  80.319644  7.038096  226.655537  rice\n",
              "2  60  55  44    23.004459  82.320763  7.840207  263.964248  rice\n",
              "3  74  35  40    26.491096  80.158363  6.980401  242.864034  rice\n",
              "4  78  42  42    20.130175  81.604873  7.628473  262.717340  rice"
            ],
            "text/html": [
              "\n",
              "  <div id=\"df-2ea55c81-72f7-4a96-9613-14c895a1bdc6\">\n",
              "    <div class=\"colab-df-container\">\n",
              "      <div>\n",
              "<style scoped>\n",
              "    .dataframe tbody tr th:only-of-type {\n",
              "        vertical-align: middle;\n",
              "    }\n",
              "\n",
              "    .dataframe tbody tr th {\n",
              "        vertical-align: top;\n",
              "    }\n",
              "\n",
              "    .dataframe thead th {\n",
              "        text-align: right;\n",
              "    }\n",
              "</style>\n",
              "<table border=\"1\" class=\"dataframe\">\n",
              "  <thead>\n",
              "    <tr style=\"text-align: right;\">\n",
              "      <th></th>\n",
              "      <th>N</th>\n",
              "      <th>P</th>\n",
              "      <th>K</th>\n",
              "      <th>temperature</th>\n",
              "      <th>humidity</th>\n",
              "      <th>ph</th>\n",
              "      <th>rainfall</th>\n",
              "      <th>label</th>\n",
              "    </tr>\n",
              "  </thead>\n",
              "  <tbody>\n",
              "    <tr>\n",
              "      <th>0</th>\n",
              "      <td>90</td>\n",
              "      <td>42</td>\n",
              "      <td>43</td>\n",
              "      <td>20.879744</td>\n",
              "      <td>82.002744</td>\n",
              "      <td>6.502985</td>\n",
              "      <td>202.935536</td>\n",
              "      <td>rice</td>\n",
              "    </tr>\n",
              "    <tr>\n",
              "      <th>1</th>\n",
              "      <td>85</td>\n",
              "      <td>58</td>\n",
              "      <td>41</td>\n",
              "      <td>21.770462</td>\n",
              "      <td>80.319644</td>\n",
              "      <td>7.038096</td>\n",
              "      <td>226.655537</td>\n",
              "      <td>rice</td>\n",
              "    </tr>\n",
              "    <tr>\n",
              "      <th>2</th>\n",
              "      <td>60</td>\n",
              "      <td>55</td>\n",
              "      <td>44</td>\n",
              "      <td>23.004459</td>\n",
              "      <td>82.320763</td>\n",
              "      <td>7.840207</td>\n",
              "      <td>263.964248</td>\n",
              "      <td>rice</td>\n",
              "    </tr>\n",
              "    <tr>\n",
              "      <th>3</th>\n",
              "      <td>74</td>\n",
              "      <td>35</td>\n",
              "      <td>40</td>\n",
              "      <td>26.491096</td>\n",
              "      <td>80.158363</td>\n",
              "      <td>6.980401</td>\n",
              "      <td>242.864034</td>\n",
              "      <td>rice</td>\n",
              "    </tr>\n",
              "    <tr>\n",
              "      <th>4</th>\n",
              "      <td>78</td>\n",
              "      <td>42</td>\n",
              "      <td>42</td>\n",
              "      <td>20.130175</td>\n",
              "      <td>81.604873</td>\n",
              "      <td>7.628473</td>\n",
              "      <td>262.717340</td>\n",
              "      <td>rice</td>\n",
              "    </tr>\n",
              "  </tbody>\n",
              "</table>\n",
              "</div>\n",
              "      <button class=\"colab-df-convert\" onclick=\"convertToInteractive('df-2ea55c81-72f7-4a96-9613-14c895a1bdc6')\"\n",
              "              title=\"Convert this dataframe to an interactive table.\"\n",
              "              style=\"display:none;\">\n",
              "        \n",
              "  <svg xmlns=\"http://www.w3.org/2000/svg\" height=\"24px\"viewBox=\"0 0 24 24\"\n",
              "       width=\"24px\">\n",
              "    <path d=\"M0 0h24v24H0V0z\" fill=\"none\"/>\n",
              "    <path d=\"M18.56 5.44l.94 2.06.94-2.06 2.06-.94-2.06-.94-.94-2.06-.94 2.06-2.06.94zm-11 1L8.5 8.5l.94-2.06 2.06-.94-2.06-.94L8.5 2.5l-.94 2.06-2.06.94zm10 10l.94 2.06.94-2.06 2.06-.94-2.06-.94-.94-2.06-.94 2.06-2.06.94z\"/><path d=\"M17.41 7.96l-1.37-1.37c-.4-.4-.92-.59-1.43-.59-.52 0-1.04.2-1.43.59L10.3 9.45l-7.72 7.72c-.78.78-.78 2.05 0 2.83L4 21.41c.39.39.9.59 1.41.59.51 0 1.02-.2 1.41-.59l7.78-7.78 2.81-2.81c.8-.78.8-2.07 0-2.86zM5.41 20L4 18.59l7.72-7.72 1.47 1.35L5.41 20z\"/>\n",
              "  </svg>\n",
              "      </button>\n",
              "      \n",
              "  <style>\n",
              "    .colab-df-container {\n",
              "      display:flex;\n",
              "      flex-wrap:wrap;\n",
              "      gap: 12px;\n",
              "    }\n",
              "\n",
              "    .colab-df-convert {\n",
              "      background-color: #E8F0FE;\n",
              "      border: none;\n",
              "      border-radius: 50%;\n",
              "      cursor: pointer;\n",
              "      display: none;\n",
              "      fill: #1967D2;\n",
              "      height: 32px;\n",
              "      padding: 0 0 0 0;\n",
              "      width: 32px;\n",
              "    }\n",
              "\n",
              "    .colab-df-convert:hover {\n",
              "      background-color: #E2EBFA;\n",
              "      box-shadow: 0px 1px 2px rgba(60, 64, 67, 0.3), 0px 1px 3px 1px rgba(60, 64, 67, 0.15);\n",
              "      fill: #174EA6;\n",
              "    }\n",
              "\n",
              "    [theme=dark] .colab-df-convert {\n",
              "      background-color: #3B4455;\n",
              "      fill: #D2E3FC;\n",
              "    }\n",
              "\n",
              "    [theme=dark] .colab-df-convert:hover {\n",
              "      background-color: #434B5C;\n",
              "      box-shadow: 0px 1px 3px 1px rgba(0, 0, 0, 0.15);\n",
              "      filter: drop-shadow(0px 1px 2px rgba(0, 0, 0, 0.3));\n",
              "      fill: #FFFFFF;\n",
              "    }\n",
              "  </style>\n",
              "\n",
              "      <script>\n",
              "        const buttonEl =\n",
              "          document.querySelector('#df-2ea55c81-72f7-4a96-9613-14c895a1bdc6 button.colab-df-convert');\n",
              "        buttonEl.style.display =\n",
              "          google.colab.kernel.accessAllowed ? 'block' : 'none';\n",
              "\n",
              "        async function convertToInteractive(key) {\n",
              "          const element = document.querySelector('#df-2ea55c81-72f7-4a96-9613-14c895a1bdc6');\n",
              "          const dataTable =\n",
              "            await google.colab.kernel.invokeFunction('convertToInteractive',\n",
              "                                                     [key], {});\n",
              "          if (!dataTable) return;\n",
              "\n",
              "          const docLinkHtml = 'Like what you see? Visit the ' +\n",
              "            '<a target=\"_blank\" href=https://colab.research.google.com/notebooks/data_table.ipynb>data table notebook</a>'\n",
              "            + ' to learn more about interactive tables.';\n",
              "          element.innerHTML = '';\n",
              "          dataTable['output_type'] = 'display_data';\n",
              "          await google.colab.output.renderOutput(dataTable, element);\n",
              "          const docLink = document.createElement('div');\n",
              "          docLink.innerHTML = docLinkHtml;\n",
              "          element.appendChild(docLink);\n",
              "        }\n",
              "      </script>\n",
              "    </div>\n",
              "  </div>\n",
              "  "
            ]
          },
          "metadata": {},
          "execution_count": 43
        }
      ]
    },
    {
      "cell_type": "markdown",
      "source": [
        "LabelEncoding the out put variable"
      ],
      "metadata": {
        "id": "G4Q9pBcXQ-12"
      }
    },
    {
      "cell_type": "code",
      "source": [
        "from sklearn.preprocessing import LabelEncoder\n",
        "lr=LabelEncoder()\n",
        "data['label']=lr.fit_transform(data['label'])\n",
        "data"
      ],
      "metadata": {
        "id": "ezGXQAOcQ34d",
        "colab": {
          "base_uri": "https://localhost:8080/",
          "height": 424
        },
        "outputId": "8690095e-9d66-468d-ef7e-b1fd9a76ca3b"
      },
      "execution_count": null,
      "outputs": [
        {
          "output_type": "execute_result",
          "data": {
            "text/plain": [
              "        N   P   K  temperature   humidity        ph    rainfall  label\n",
              "0      90  42  43    20.879744  82.002744  6.502985  202.935536     20\n",
              "1      85  58  41    21.770462  80.319644  7.038096  226.655537     20\n",
              "2      60  55  44    23.004459  82.320763  7.840207  263.964248     20\n",
              "3      74  35  40    26.491096  80.158363  6.980401  242.864034     20\n",
              "4      78  42  42    20.130175  81.604873  7.628473  262.717340     20\n",
              "...   ...  ..  ..          ...        ...       ...         ...    ...\n",
              "2195  107  34  32    26.774637  66.413269  6.780064  177.774507      5\n",
              "2196   99  15  27    27.417112  56.636362  6.086922  127.924610      5\n",
              "2197  118  33  30    24.131797  67.225123  6.362608  173.322839      5\n",
              "2198  117  32  34    26.272418  52.127394  6.758793  127.175293      5\n",
              "2199  104  18  30    23.603016  60.396475  6.779833  140.937041      5\n",
              "\n",
              "[2200 rows x 8 columns]"
            ],
            "text/html": [
              "\n",
              "  <div id=\"df-e27ca808-5966-4d4b-b6e2-9b1af29b9cb9\">\n",
              "    <div class=\"colab-df-container\">\n",
              "      <div>\n",
              "<style scoped>\n",
              "    .dataframe tbody tr th:only-of-type {\n",
              "        vertical-align: middle;\n",
              "    }\n",
              "\n",
              "    .dataframe tbody tr th {\n",
              "        vertical-align: top;\n",
              "    }\n",
              "\n",
              "    .dataframe thead th {\n",
              "        text-align: right;\n",
              "    }\n",
              "</style>\n",
              "<table border=\"1\" class=\"dataframe\">\n",
              "  <thead>\n",
              "    <tr style=\"text-align: right;\">\n",
              "      <th></th>\n",
              "      <th>N</th>\n",
              "      <th>P</th>\n",
              "      <th>K</th>\n",
              "      <th>temperature</th>\n",
              "      <th>humidity</th>\n",
              "      <th>ph</th>\n",
              "      <th>rainfall</th>\n",
              "      <th>label</th>\n",
              "    </tr>\n",
              "  </thead>\n",
              "  <tbody>\n",
              "    <tr>\n",
              "      <th>0</th>\n",
              "      <td>90</td>\n",
              "      <td>42</td>\n",
              "      <td>43</td>\n",
              "      <td>20.879744</td>\n",
              "      <td>82.002744</td>\n",
              "      <td>6.502985</td>\n",
              "      <td>202.935536</td>\n",
              "      <td>20</td>\n",
              "    </tr>\n",
              "    <tr>\n",
              "      <th>1</th>\n",
              "      <td>85</td>\n",
              "      <td>58</td>\n",
              "      <td>41</td>\n",
              "      <td>21.770462</td>\n",
              "      <td>80.319644</td>\n",
              "      <td>7.038096</td>\n",
              "      <td>226.655537</td>\n",
              "      <td>20</td>\n",
              "    </tr>\n",
              "    <tr>\n",
              "      <th>2</th>\n",
              "      <td>60</td>\n",
              "      <td>55</td>\n",
              "      <td>44</td>\n",
              "      <td>23.004459</td>\n",
              "      <td>82.320763</td>\n",
              "      <td>7.840207</td>\n",
              "      <td>263.964248</td>\n",
              "      <td>20</td>\n",
              "    </tr>\n",
              "    <tr>\n",
              "      <th>3</th>\n",
              "      <td>74</td>\n",
              "      <td>35</td>\n",
              "      <td>40</td>\n",
              "      <td>26.491096</td>\n",
              "      <td>80.158363</td>\n",
              "      <td>6.980401</td>\n",
              "      <td>242.864034</td>\n",
              "      <td>20</td>\n",
              "    </tr>\n",
              "    <tr>\n",
              "      <th>4</th>\n",
              "      <td>78</td>\n",
              "      <td>42</td>\n",
              "      <td>42</td>\n",
              "      <td>20.130175</td>\n",
              "      <td>81.604873</td>\n",
              "      <td>7.628473</td>\n",
              "      <td>262.717340</td>\n",
              "      <td>20</td>\n",
              "    </tr>\n",
              "    <tr>\n",
              "      <th>...</th>\n",
              "      <td>...</td>\n",
              "      <td>...</td>\n",
              "      <td>...</td>\n",
              "      <td>...</td>\n",
              "      <td>...</td>\n",
              "      <td>...</td>\n",
              "      <td>...</td>\n",
              "      <td>...</td>\n",
              "    </tr>\n",
              "    <tr>\n",
              "      <th>2195</th>\n",
              "      <td>107</td>\n",
              "      <td>34</td>\n",
              "      <td>32</td>\n",
              "      <td>26.774637</td>\n",
              "      <td>66.413269</td>\n",
              "      <td>6.780064</td>\n",
              "      <td>177.774507</td>\n",
              "      <td>5</td>\n",
              "    </tr>\n",
              "    <tr>\n",
              "      <th>2196</th>\n",
              "      <td>99</td>\n",
              "      <td>15</td>\n",
              "      <td>27</td>\n",
              "      <td>27.417112</td>\n",
              "      <td>56.636362</td>\n",
              "      <td>6.086922</td>\n",
              "      <td>127.924610</td>\n",
              "      <td>5</td>\n",
              "    </tr>\n",
              "    <tr>\n",
              "      <th>2197</th>\n",
              "      <td>118</td>\n",
              "      <td>33</td>\n",
              "      <td>30</td>\n",
              "      <td>24.131797</td>\n",
              "      <td>67.225123</td>\n",
              "      <td>6.362608</td>\n",
              "      <td>173.322839</td>\n",
              "      <td>5</td>\n",
              "    </tr>\n",
              "    <tr>\n",
              "      <th>2198</th>\n",
              "      <td>117</td>\n",
              "      <td>32</td>\n",
              "      <td>34</td>\n",
              "      <td>26.272418</td>\n",
              "      <td>52.127394</td>\n",
              "      <td>6.758793</td>\n",
              "      <td>127.175293</td>\n",
              "      <td>5</td>\n",
              "    </tr>\n",
              "    <tr>\n",
              "      <th>2199</th>\n",
              "      <td>104</td>\n",
              "      <td>18</td>\n",
              "      <td>30</td>\n",
              "      <td>23.603016</td>\n",
              "      <td>60.396475</td>\n",
              "      <td>6.779833</td>\n",
              "      <td>140.937041</td>\n",
              "      <td>5</td>\n",
              "    </tr>\n",
              "  </tbody>\n",
              "</table>\n",
              "<p>2200 rows × 8 columns</p>\n",
              "</div>\n",
              "      <button class=\"colab-df-convert\" onclick=\"convertToInteractive('df-e27ca808-5966-4d4b-b6e2-9b1af29b9cb9')\"\n",
              "              title=\"Convert this dataframe to an interactive table.\"\n",
              "              style=\"display:none;\">\n",
              "        \n",
              "  <svg xmlns=\"http://www.w3.org/2000/svg\" height=\"24px\"viewBox=\"0 0 24 24\"\n",
              "       width=\"24px\">\n",
              "    <path d=\"M0 0h24v24H0V0z\" fill=\"none\"/>\n",
              "    <path d=\"M18.56 5.44l.94 2.06.94-2.06 2.06-.94-2.06-.94-.94-2.06-.94 2.06-2.06.94zm-11 1L8.5 8.5l.94-2.06 2.06-.94-2.06-.94L8.5 2.5l-.94 2.06-2.06.94zm10 10l.94 2.06.94-2.06 2.06-.94-2.06-.94-.94-2.06-.94 2.06-2.06.94z\"/><path d=\"M17.41 7.96l-1.37-1.37c-.4-.4-.92-.59-1.43-.59-.52 0-1.04.2-1.43.59L10.3 9.45l-7.72 7.72c-.78.78-.78 2.05 0 2.83L4 21.41c.39.39.9.59 1.41.59.51 0 1.02-.2 1.41-.59l7.78-7.78 2.81-2.81c.8-.78.8-2.07 0-2.86zM5.41 20L4 18.59l7.72-7.72 1.47 1.35L5.41 20z\"/>\n",
              "  </svg>\n",
              "      </button>\n",
              "      \n",
              "  <style>\n",
              "    .colab-df-container {\n",
              "      display:flex;\n",
              "      flex-wrap:wrap;\n",
              "      gap: 12px;\n",
              "    }\n",
              "\n",
              "    .colab-df-convert {\n",
              "      background-color: #E8F0FE;\n",
              "      border: none;\n",
              "      border-radius: 50%;\n",
              "      cursor: pointer;\n",
              "      display: none;\n",
              "      fill: #1967D2;\n",
              "      height: 32px;\n",
              "      padding: 0 0 0 0;\n",
              "      width: 32px;\n",
              "    }\n",
              "\n",
              "    .colab-df-convert:hover {\n",
              "      background-color: #E2EBFA;\n",
              "      box-shadow: 0px 1px 2px rgba(60, 64, 67, 0.3), 0px 1px 3px 1px rgba(60, 64, 67, 0.15);\n",
              "      fill: #174EA6;\n",
              "    }\n",
              "\n",
              "    [theme=dark] .colab-df-convert {\n",
              "      background-color: #3B4455;\n",
              "      fill: #D2E3FC;\n",
              "    }\n",
              "\n",
              "    [theme=dark] .colab-df-convert:hover {\n",
              "      background-color: #434B5C;\n",
              "      box-shadow: 0px 1px 3px 1px rgba(0, 0, 0, 0.15);\n",
              "      filter: drop-shadow(0px 1px 2px rgba(0, 0, 0, 0.3));\n",
              "      fill: #FFFFFF;\n",
              "    }\n",
              "  </style>\n",
              "\n",
              "      <script>\n",
              "        const buttonEl =\n",
              "          document.querySelector('#df-e27ca808-5966-4d4b-b6e2-9b1af29b9cb9 button.colab-df-convert');\n",
              "        buttonEl.style.display =\n",
              "          google.colab.kernel.accessAllowed ? 'block' : 'none';\n",
              "\n",
              "        async function convertToInteractive(key) {\n",
              "          const element = document.querySelector('#df-e27ca808-5966-4d4b-b6e2-9b1af29b9cb9');\n",
              "          const dataTable =\n",
              "            await google.colab.kernel.invokeFunction('convertToInteractive',\n",
              "                                                     [key], {});\n",
              "          if (!dataTable) return;\n",
              "\n",
              "          const docLinkHtml = 'Like what you see? Visit the ' +\n",
              "            '<a target=\"_blank\" href=https://colab.research.google.com/notebooks/data_table.ipynb>data table notebook</a>'\n",
              "            + ' to learn more about interactive tables.';\n",
              "          element.innerHTML = '';\n",
              "          dataTable['output_type'] = 'display_data';\n",
              "          await google.colab.output.renderOutput(dataTable, element);\n",
              "          const docLink = document.createElement('div');\n",
              "          docLink.innerHTML = docLinkHtml;\n",
              "          element.appendChild(docLink);\n",
              "        }\n",
              "      </script>\n",
              "    </div>\n",
              "  </div>\n",
              "  "
            ]
          },
          "metadata": {},
          "execution_count": 44
        }
      ]
    },
    {
      "cell_type": "code",
      "source": [
        "label = data.label.astype('category')"
      ],
      "metadata": {
        "id": "IrRHN84wRLxV"
      },
      "execution_count": null,
      "outputs": []
    },
    {
      "cell_type": "markdown",
      "source": [
        "Removing the out-liers for better application of Machine learning algorithm"
      ],
      "metadata": {
        "id": "2dfY0xqJQXum"
      }
    },
    {
      "cell_type": "code",
      "source": [
        "def outlier(df,ft):\n",
        "  Q1=df[ft].quantile(0.25)\n",
        "  Q3=df[ft].quantile(0.75)\n",
        "  IQR=Q3-Q1\n",
        "  lb=Q1-1.5*IQR\n",
        "  ub=Q3+1.5*IQR\n",
        "  ls=df.index[(df[ft]<lb) | (df[ft]>ub)]\n",
        "  return ls\n",
        "index_list=[] \n",
        "for ft in data.columns:\n",
        "  index_list.extend(outlier(data,ft))\n",
        "def remove(df,ls):\n",
        "  ls=sorted(set(ls))\n",
        "  df=df.drop(ls)\n",
        "  return df\n",
        "data=remove(data,index_list)"
      ],
      "metadata": {
        "id": "7HN07E1NQM4e"
      },
      "execution_count": null,
      "outputs": []
    },
    {
      "cell_type": "code",
      "source": [
        "n=1\n",
        "plt.figure(figsize=(20,30))\n",
        "for i in data.columns:\n",
        "  plt.subplot(4,3,n)\n",
        "  data.boxplot(column=[i])\n",
        "  n+=1"
      ],
      "metadata": {
        "id": "wbF7kXBfSIFP",
        "colab": {
          "base_uri": "https://localhost:8080/",
          "height": 1000
        },
        "outputId": "140ce312-37f7-44cc-a83c-1fa21b900bea"
      },
      "execution_count": null,
      "outputs": [
        {
          "output_type": "display_data",
          "data": {
            "text/plain": [
              "<Figure size 1440x2160 with 8 Axes>"
            ],
            "image/png": "[encoded data removed]"
          },
          "metadata": {
            "needs_background": "light"
          }
        }
      ]
    },
    {
      "cell_type": "code",
      "source": [
        "X=data.drop(['label'],axis=1)\n",
        "Y=data['label']"
      ],
      "metadata": {
        "id": "OJLugzPHWCwi"
      },
      "execution_count": null,
      "outputs": []
    },
    {
      "cell_type": "markdown",
      "source": [
        "From the E.D.A done above we can say our data is a classification \n",
        "so the approprite machine learning algorithm will be\n",
        "1. DecisionTree\n",
        "2. KNN\n",
        "3. GaussianNB\n",
        "4. RandomForest"
      ],
      "metadata": {
        "id": "uw8hudimSm66"
      }
    },
    {
      "cell_type": "code",
      "source": [
        "from scipy.spatial import distance\n",
        "from sklearn import model_selection\n",
        "from sklearn.tree import DecisionTreeClassifier\n",
        "from sklearn.neighbors import KNeighborsClassifier\n",
        "from sklearn.naive_bayes import GaussianNB\n",
        "from sklearn.ensemble import RandomForestClassifier"
      ],
      "metadata": {
        "id": "JNQyWdEWSK3z"
      },
      "execution_count": null,
      "outputs": []
    },
    {
      "cell_type": "markdown",
      "source": [
        "finding out the most efficient model"
      ],
      "metadata": {
        "id": "QOdPagIHTnoP"
      }
    },
    {
      "cell_type": "code",
      "source": [
        "models = []\n",
        "models.append(('KNN', KNeighborsClassifier(n_neighbors=10,weights='distance',p=2,leaf_size=10)))\n",
        "models.append(('ID3', DecisionTreeClassifier()))\n",
        "models.append(('NB', GaussianNB()))\n",
        "models.append(('RF',RandomForestClassifier(n_estimators=100)))"
      ],
      "metadata": {
        "id": "0qHcOL3eTlzi"
      },
      "execution_count": null,
      "outputs": []
    },
    {
      "cell_type": "code",
      "source": [
        "results = []\n",
        "names = []\n",
        "scoring = 'accuracy'\n",
        "for name, model in models:\n",
        "\tkfold = model_selection.StratifiedKFold(n_splits=11)\n",
        "\tcv_results = model_selection.cross_val_score(model, X, Y, cv=kfold, scoring=scoring)\n",
        "\tresults.append(cv_results)\n",
        "\tnames.append(name)\n",
        "\tmsg = \"%s: %f (%f)\" % (name, cv_results.mean(), cv_results.std())\n",
        "\tprint(msg)\n",
        "results"
      ],
      "metadata": {
        "colab": {
          "base_uri": "https://localhost:8080/"
        },
        "id": "o1j1lmL8T5qt",
        "outputId": "35b764af-3ac7-4bb5-883e-7d0b80406b33"
      },
      "execution_count": null,
      "outputs": [
        {
          "output_type": "stream",
          "name": "stdout",
          "text": [
            "KNN: 0.971725 (0.014584)\n",
            "ID3: 0.983029 (0.010311)\n",
            "NB: 0.989808 (0.005510)\n",
            "RF: 0.992638 (0.005204)\n"
          ]
        },
        {
          "output_type": "execute_result",
          "data": {
            "text/plain": [
              "[array([0.94409938, 0.97515528, 0.95652174, 0.98757764, 0.95031056,\n",
              "        0.99378882, 0.98136646, 0.97515528, 0.975     , 0.975     ,\n",
              "        0.975     ]),\n",
              " array([0.97515528, 1.        , 0.9689441 , 0.99378882, 0.99378882,\n",
              "        0.97515528, 0.98136646, 0.98136646, 0.99375   , 0.98125   ,\n",
              "        0.96875   ]),\n",
              " array([0.99378882, 0.99378882, 1.        , 0.98757764, 0.98757764,\n",
              "        0.99378882, 0.98757764, 0.99378882, 0.9875    , 0.98125   ,\n",
              "        0.98125   ]),\n",
              " array([0.99378882, 1.        , 1.        , 0.98757764, 0.99378882,\n",
              "        0.99378882, 0.99378882, 0.99378882, 0.9875    , 0.98125   ,\n",
              "        0.99375   ])]"
            ]
          },
          "metadata": {},
          "execution_count": 82
        }
      ]
    },
    {
      "cell_type": "code",
      "source": [
        "fig = plt.figure()\n",
        "fig.suptitle('Algorithm Comparison')\n",
        "ax = fig.add_subplot(111)\n",
        "plt.boxplot(results)\n",
        "ax.set_xticklabels(names)\n",
        "plt.show()\n",
        "\n",
        "plt.hist(results)"
      ],
      "metadata": {
        "colab": {
          "base_uri": "https://localhost:8080/",
          "height": 681
        },
        "id": "WQCH9qhFVEvZ",
        "outputId": "470124fb-14be-4789-f1c2-f8bfc3325662"
      },
      "execution_count": null,
      "outputs": [
        {
          "output_type": "display_data",
          "data": {
            "text/plain": [
              "<Figure size 432x288 with 1 Axes>"
            ],
            "image/png": "[encoded data removed]"
          },
          "metadata": {
            "needs_background": "light"
          }
        },
        {
          "output_type": "execute_result",
          "data": {
            "text/plain": [
              "(array([[1., 1., 1., 0., 0., 5., 1., 1., 1., 0.],\n",
              "        [0., 0., 0., 0., 2., 2., 3., 0., 3., 1.],\n",
              "        [0., 0., 0., 0., 0., 0., 2., 4., 4., 1.],\n",
              "        [0., 0., 0., 0., 0., 0., 1., 2., 6., 2.]]),\n",
              " array([0.94409938, 0.94968944, 0.9552795 , 0.96086957, 0.96645963,\n",
              "        0.97204969, 0.97763975, 0.98322981, 0.98881988, 0.99440994,\n",
              "        1.        ]),\n",
              " <a list of 4 Lists of Patches objects>)"
            ]
          },
          "metadata": {},
          "execution_count": 83
        },
        {
          "output_type": "display_data",
          "data": {
            "text/plain": [
              "<Figure size 432x288 with 1 Axes>"
            ],
            "image/png": "[encoded data removed]"
          },
          "metadata": {
            "needs_background": "light"
          }
        }
      ]
    },
    {
      "cell_type": "code",
      "source": [
        "from sklearn.model_selection import train_test_split\n",
        "x_train,x_test,y_train,y_test=train_test_split(X,Y,test_size=0.3,random_state=1)"
      ],
      "metadata": {
        "id": "p8womyALVaIX"
      },
      "execution_count": null,
      "outputs": []
    },
    {
      "cell_type": "code",
      "source": [
        "#Import Random Forest Model\n",
        "from sklearn.ensemble import RandomForestClassifier\n",
        "\n",
        "#Create a Gaussian Classifier\n",
        "clf=RandomForestClassifier(n_estimators=10)\n",
        "\n",
        "#Train the model using the training sets y_pred=clf.predict(X_test)\n",
        "clf.fit(x_train,y_train)\n",
        "\n",
        "y_pred=clf.predict(x_test)"
      ],
      "metadata": {
        "id": "vp5XanwlEAVq"
      },
      "execution_count": null,
      "outputs": []
    },
    {
      "cell_type": "code",
      "source": [
        "#Import scikit-learn metrics module for accuracy calculation\n",
        "from sklearn import metrics\n",
        "# Model Accuracy, how often is the classifier correct?\n",
        "print(\"Accuracy:\",metrics.accuracy_score(y_test, y_pred))\n",
        "\n",
        "from sklearn import metrics\n",
        "print(metrics.classification_report(y_test,y_pred))"
      ],
      "metadata": {
        "colab": {
          "base_uri": "https://localhost:8080/"
        },
        "id": "RLzCUDnlZ1hD",
        "outputId": "03d0c570-22f3-4627-9c52-8cbe418c13fc"
      },
      "execution_count": null,
      "outputs": [
        {
          "output_type": "stream",
          "name": "stdout",
          "text": [
            "Accuracy: 0.9943502824858758\n",
            "              precision    recall  f1-score   support\n",
            "\n",
            "           1       1.00      1.00      1.00        25\n",
            "           2       0.97      1.00      0.99        34\n",
            "           3       1.00      1.00      1.00        14\n",
            "           4       1.00      1.00      1.00        37\n",
            "           5       1.00      1.00      1.00        34\n",
            "           6       1.00      1.00      1.00        28\n",
            "           8       0.96      1.00      0.98        24\n",
            "           9       1.00      1.00      1.00        31\n",
            "          10       0.97      1.00      0.99        33\n",
            "          11       1.00      1.00      1.00        35\n",
            "          12       1.00      1.00      1.00        27\n",
            "          13       1.00      0.89      0.94        19\n",
            "          14       1.00      1.00      1.00        21\n",
            "          15       1.00      1.00      1.00        25\n",
            "          16       1.00      1.00      1.00        25\n",
            "          17       1.00      1.00      1.00        14\n",
            "          18       1.00      1.00      1.00        30\n",
            "          19       1.00      1.00      1.00        37\n",
            "          20       1.00      0.86      0.92         7\n",
            "          21       1.00      1.00      1.00        31\n",
            "\n",
            "    accuracy                           0.99       531\n",
            "   macro avg       1.00      0.99      0.99       531\n",
            "weighted avg       0.99      0.99      0.99       531\n",
            "\n"
          ]
        }
      ]
    },
    {
      "cell_type": "code",
      "source": [
        "from sklearn.metrics import confusion_matrix\n",
        "\n",
        "# Lets print the Confusion matrix first\n",
        "\n",
        "plt.rcParams['figure.figsize'] = (10, 10)\n",
        "\n",
        "cm = confusion_matrix (y_test, y_pred)\n",
        "\n",
        "sns.heatmap(cm, annot = True, cmap = 'Wistia')\n",
        "\n",
        "plt.title('Confusion Matrix for descision tree is', fontsize  = 15)\n",
        "plt.show()"
      ],
      "metadata": {
        "colab": {
          "base_uri": "https://localhost:8080/",
          "height": 609
        },
        "id": "HRVzeKg-fmWM",
        "outputId": "b73bc36f-43c5-473b-fdef-58a91404d84c"
      },
      "execution_count": null,
      "outputs": [
        {
          "output_type": "display_data",
          "data": {
            "text/plain": [
              "<Figure size 720x720 with 2 Axes>"
            ],
            "image/png": "[encoded data removed]"
          },
          "metadata": {
            "needs_background": "light"
          }
        }
      ]
    },
    {
      "cell_type": "code",
      "source": [
        "def predict():\n",
        "    list1 = []\n",
        "    Nitrogen = input('Ratio of Nitrogen in the Soil : ')\n",
        "    list1.append(Nitrogen)\n",
        "    Phosphorous = input('Ratio of Phosphorous in the Soil : ')\n",
        "    list1.append(Phosphorous)\n",
        "    Potassiam = input('Ratio of Potassiam in the Soil :')\n",
        "    list1.append(Potassiam)\n",
        "    Temperature = input('Temperature in Celcius : ')\n",
        "    list1.append(Temperature)\n",
        "    Humidity = input('Relative Humidity in the Soil % : ')\n",
        "    list1.append(Humidity)\n",
        "    ph = input('ph value for the Soil : ')\n",
        "    list1.append(ph)\n",
        "    RainFall = input('RainFall in 1mm : ')\n",
        "    list1.append(RainFall)\n",
        "    prediction = clf.predict(np.array([list1]))\n",
        "    print('The Suggested Crop for given Climate Condition :', lr.inverse_transform(prediction))\n",
        "     "
      ],
      "metadata": {
        "id": "-ABkqXpKbaqX"
      },
      "execution_count": null,
      "outputs": []
    },
    {
      "cell_type": "code",
      "source": [
        "flag = True\n",
        "while flag:\n",
        "    predict()\n",
        "    choice = input('If you want to continue Enter Yes if Not Enter any Key : ')\n",
        "    if choice == 'Yes':\n",
        "        #Potassiam = input('Ratio of Potassiam in the Soil :')\n",
        "        flag = True\n",
        "    else:\n",
        "        flag = False\n",
        "        \n",
        "        \n",
        "        print('Good luck! We Hope you make much Growth in Climate Condition you enter '   )"
      ],
      "metadata": {
        "colab": {
          "base_uri": "https://localhost:8080/"
        },
        "id": "MQNqRQszdAT-",
        "outputId": "a8de27ea-4392-4915-adb2-6b6fafa1c366"
      },
      "execution_count": null,
      "outputs": [
        {
          "output_type": "stream",
          "name": "stdout",
          "text": [
            "Ratio of Nitrogen in the Soil : 99\n",
            "Ratio of Phosphorous in the Soil : 60\n",
            "Ratio of Potassiam in the Soil :45\n",
            "Temperature in Celcius : 26\n",
            "Relative Humidity in the Soil % : 84\n",
            "ph value for the Soil : 6.5\n",
            "RainFall in 1mm : 183\n",
            "The Suggested Crop for given Climate Condition : ['jute']\n",
            "If you want to continue Enter Yes if Not Enter any Key : n\n",
            "Good luck! We Hope you make much Growth in Climate Condition you enter \n"
          ]
        }
      ]
    },
    {
      "cell_type": "code",
      "source": [
        "summary('jute')"
      ],
      "metadata": {
        "colab": {
          "base_uri": "https://localhost:8080/"
        },
        "id": "ifONZeYGvq3q",
        "outputId": "6eedc885-d554-41d8-da3e-a649ae3ede20"
      },
      "execution_count": null,
      "outputs": [
        {
          "output_type": "stream",
          "name": "stdout",
          "text": [
            "requirements of  jute  are:\n",
            "**********************************************************************\n",
            "minimum,average and maximum ratios of nitrogen are : 60.00 , 78.40 and 100.00 respectively\n",
            "----------------------------------------------------------------------\n",
            "minimum,average and maximum ratios of phosphorous are : 35.00 , 46.86 and 60.00 respectively\n",
            "----------------------------------------------------------------------\n",
            "minimum,average and maximum ratios of potasium are : 35.00 , 39.99 and 45.00 respectively\n",
            "----------------------------------------------------------------------\n",
            "minimum,average and maximum temperatures are : 23.09 , 24.96 and 26.99 respectively\n",
            "----------------------------------------------------------------------\n",
            "minimum,average and maximum percentages of humidity are : 70.88 , 79.64 and 89.89 respectively\n",
            "----------------------------------------------------------------------\n",
            "minimum,average and maximum values of ph are : 6.00 , 6.73 and 7.49 respectively\n",
            "----------------------------------------------------------------------\n",
            "minimum,average and maximum values of rainfall in milimeter  are : 150.24 , 174.79 and 199.84 respectively\n"
          ]
        }
      ]
    }
  ]
}